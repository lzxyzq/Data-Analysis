{
 "cells": [
  {
   "cell_type": "markdown",
   "metadata": {
    "collapsed": true
   },
   "source": [
    "# 6 基于树的方法"
   ]
  },
  {
   "cell_type": "markdown",
   "metadata": {},
   "source": [
    "## 6.1 分类树"
   ]
  },
  {
   "cell_type": "code",
   "execution_count": 1,
   "metadata": {
    "collapsed": false
   },
   "outputs": [
    {
     "name": "stderr",
     "output_type": "stream",
     "text": [
      "Warning message:\n",
      "\"package 'tree' was built under R version 3.3.3\""
     ]
    }
   ],
   "source": [
    "library(tree)"
   ]
  },
  {
   "cell_type": "code",
   "execution_count": 2,
   "metadata": {
    "collapsed": false
   },
   "outputs": [
    {
     "name": "stderr",
     "output_type": "stream",
     "text": [
      "Warning message:\n",
      "\"package 'ISLR' was built under R version 3.3.3\""
     ]
    }
   ],
   "source": [
    "# 用ifelse()函数创建High变量，Sales大于8取Yes，否则取No\n",
    "library(ISLR)\n",
    "attach(Carseats)\n",
    "High=ifelse(Sales<=8,\"No\",\"Yes\")"
   ]
  },
  {
   "cell_type": "code",
   "execution_count": 3,
   "metadata": {
    "collapsed": true
   },
   "outputs": [],
   "source": [
    "# 用data.frame()将High与Carseats数据集合并\n",
    "Carseats=data.frame(Carseats,High)"
   ]
  },
  {
   "cell_type": "code",
   "execution_count": 4,
   "metadata": {
    "collapsed": true
   },
   "outputs": [],
   "source": [
    "# 用tree()建立分类树，用除Sales之外的所有变量预测High\n",
    "tree.carseats=tree(High~.-Sales,Carseats)"
   ]
  },
  {
   "cell_type": "code",
   "execution_count": 5,
   "metadata": {
    "collapsed": false
   },
   "outputs": [
    {
     "data": {
      "text/plain": [
       "\n",
       "Classification tree:\n",
       "tree(formula = High ~ . - Sales, data = Carseats)\n",
       "Variables actually used in tree construction:\n",
       "[1] \"ShelveLoc\"   \"Price\"       \"Income\"      \"CompPrice\"   \"Population\" \n",
       "[6] \"Advertising\" \"Age\"         \"US\"         \n",
       "Number of terminal nodes:  27 \n",
       "Residual mean deviance:  0.4575 = 170.7 / 373 \n",
       "Misclassification error rate: 0.09 = 36 / 400 "
      ]
     },
     "metadata": {},
     "output_type": "display_data"
    }
   ],
   "source": [
    "# 函数summary()列出用于生成终端结点的所有变量、终端结点个数和（训练）错误率\n",
    "summary(tree.carseats)"
   ]
  },
  {
   "cell_type": "code",
   "execution_count": 6,
   "metadata": {
    "collapsed": false
   },
   "outputs": [
    {
     "data": {
      "image/png": "[encoded data removed]",
      "text/plain": [
       "plot without title"
      ]
     },
     "metadata": {},
     "output_type": "display_data"
    }
   ],
   "source": [
    "# plot()显示树的结构，用函数text()显示结点标记，参数pretty=0使R输出所有定性预测变量的类别名，而不仅仅是展示各类名的首字母\n",
    "plot(tree.carseats)\n",
    "text(tree.carseats,pretty=0)"
   ]
  },
  {
   "cell_type": "code",
   "execution_count": 7,
   "metadata": {
    "collapsed": false
   },
   "outputs": [
    {
     "data": {
      "text/plain": [
       "node), split, n, deviance, yval, (yprob)\n",
       "      * denotes terminal node\n",
       "\n",
       "  1) root 400 541.500 No ( 0.59000 0.41000 )  \n",
       "    2) ShelveLoc: Bad,Medium 315 390.600 No ( 0.68889 0.31111 )  \n",
       "      4) Price < 92.5 46  56.530 Yes ( 0.30435 0.69565 )  \n",
       "        8) Income < 57 10  12.220 No ( 0.70000 0.30000 )  \n",
       "         16) CompPrice < 110.5 5   0.000 No ( 1.00000 0.00000 ) *\n",
       "         17) CompPrice > 110.5 5   6.730 Yes ( 0.40000 0.60000 ) *\n",
       "        9) Income > 57 36  35.470 Yes ( 0.19444 0.80556 )  \n",
       "         18) Population < 207.5 16  21.170 Yes ( 0.37500 0.62500 ) *\n",
       "         19) Population > 207.5 20   7.941 Yes ( 0.05000 0.95000 ) *\n",
       "      5) Price > 92.5 269 299.800 No ( 0.75465 0.24535 )  \n",
       "       10) Advertising < 13.5 224 213.200 No ( 0.81696 0.18304 )  \n",
       "         20) CompPrice < 124.5 96  44.890 No ( 0.93750 0.06250 )  \n",
       "           40) Price < 106.5 38  33.150 No ( 0.84211 0.15789 )  \n",
       "             80) Population < 177 12  16.300 No ( 0.58333 0.41667 )  \n",
       "              160) Income < 60.5 6   0.000 No ( 1.00000 0.00000 ) *\n",
       "              161) Income > 60.5 6   5.407 Yes ( 0.16667 0.83333 ) *\n",
       "             81) Population > 177 26   8.477 No ( 0.96154 0.03846 ) *\n",
       "           41) Price > 106.5 58   0.000 No ( 1.00000 0.00000 ) *\n",
       "         21) CompPrice > 124.5 128 150.200 No ( 0.72656 0.27344 )  \n",
       "           42) Price < 122.5 51  70.680 Yes ( 0.49020 0.50980 )  \n",
       "             84) ShelveLoc: Bad 11   6.702 No ( 0.90909 0.09091 ) *\n",
       "             85) ShelveLoc: Medium 40  52.930 Yes ( 0.37500 0.62500 )  \n",
       "              170) Price < 109.5 16   7.481 Yes ( 0.06250 0.93750 ) *\n",
       "              171) Price > 109.5 24  32.600 No ( 0.58333 0.41667 )  \n",
       "                342) Age < 49.5 13  16.050 Yes ( 0.30769 0.69231 ) *\n",
       "                343) Age > 49.5 11   6.702 No ( 0.90909 0.09091 ) *\n",
       "           43) Price > 122.5 77  55.540 No ( 0.88312 0.11688 )  \n",
       "             86) CompPrice < 147.5 58  17.400 No ( 0.96552 0.03448 ) *\n",
       "             87) CompPrice > 147.5 19  25.010 No ( 0.63158 0.36842 )  \n",
       "              174) Price < 147 12  16.300 Yes ( 0.41667 0.58333 )  \n",
       "                348) CompPrice < 152.5 7   5.742 Yes ( 0.14286 0.85714 ) *\n",
       "                349) CompPrice > 152.5 5   5.004 No ( 0.80000 0.20000 ) *\n",
       "              175) Price > 147 7   0.000 No ( 1.00000 0.00000 ) *\n",
       "       11) Advertising > 13.5 45  61.830 Yes ( 0.44444 0.55556 )  \n",
       "         22) Age < 54.5 25  25.020 Yes ( 0.20000 0.80000 )  \n",
       "           44) CompPrice < 130.5 14  18.250 Yes ( 0.35714 0.64286 )  \n",
       "             88) Income < 100 9  12.370 No ( 0.55556 0.44444 ) *\n",
       "             89) Income > 100 5   0.000 Yes ( 0.00000 1.00000 ) *\n",
       "           45) CompPrice > 130.5 11   0.000 Yes ( 0.00000 1.00000 ) *\n",
       "         23) Age > 54.5 20  22.490 No ( 0.75000 0.25000 )  \n",
       "           46) CompPrice < 122.5 10   0.000 No ( 1.00000 0.00000 ) *\n",
       "           47) CompPrice > 122.5 10  13.860 No ( 0.50000 0.50000 )  \n",
       "             94) Price < 125 5   0.000 Yes ( 0.00000 1.00000 ) *\n",
       "             95) Price > 125 5   0.000 No ( 1.00000 0.00000 ) *\n",
       "    3) ShelveLoc: Good 85  90.330 Yes ( 0.22353 0.77647 )  \n",
       "      6) Price < 135 68  49.260 Yes ( 0.11765 0.88235 )  \n",
       "       12) US: No 17  22.070 Yes ( 0.35294 0.64706 )  \n",
       "         24) Price < 109 8   0.000 Yes ( 0.00000 1.00000 ) *\n",
       "         25) Price > 109 9  11.460 No ( 0.66667 0.33333 ) *\n",
       "       13) US: Yes 51  16.880 Yes ( 0.03922 0.96078 ) *\n",
       "      7) Price > 135 17  22.070 No ( 0.64706 0.35294 )  \n",
       "       14) Income < 46 6   0.000 No ( 1.00000 0.00000 ) *\n",
       "       15) Income > 46 11  15.160 Yes ( 0.45455 0.54545 ) *"
      ]
     },
     "metadata": {},
     "output_type": "display_data"
    }
   ],
   "source": [
    "# 输出决策树每个分支的结果，包括分裂规则、分支上观测值的数量、偏差、分支的整体预测（YES或NO）和这一分支中取YES和NO的观测值的比例，星号表示终端结点\n",
    "tree.carseats"
   ]
  },
  {
   "cell_type": "code",
   "execution_count": 8,
   "metadata": {
    "collapsed": true
   },
   "outputs": [],
   "source": [
    "# 切分训练集、测试集\n",
    "set.seed(2)\n",
    "train=sample(1:nrow(Carseats), 200)\n",
    "Carseats.test=Carseats[-train,]\n",
    "High.test=High[-train]"
   ]
  },
  {
   "cell_type": "code",
   "execution_count": 9,
   "metadata": {
    "collapsed": true
   },
   "outputs": [],
   "source": [
    "# 参数type=\"class\"使R返回真实的预测类别\n",
    "tree.carseats=tree(High~.-Sales,Carseats,subset=train)\n",
    "tree.pred=predict(tree.carseats,Carseats.test,type=\"class\")"
   ]
  },
  {
   "cell_type": "code",
   "execution_count": 10,
   "metadata": {
    "collapsed": false
   },
   "outputs": [
    {
     "data": {
      "text/plain": [
       "         High.test\n",
       "tree.pred No Yes\n",
       "      No  86  27\n",
       "      Yes 30  57"
      ]
     },
     "metadata": {},
     "output_type": "display_data"
    },
    {
     "data": {
      "text/html": [
       "0.715"
      ],
      "text/latex": [
       "0.715"
      ],
      "text/markdown": [
       "0.715"
      ],
      "text/plain": [
       "[1] 0.715"
      ]
     },
     "metadata": {},
     "output_type": "display_data"
    }
   ],
   "source": [
    "# 混淆矩阵，对测试集上约71.5%的数据作出正确预测\n",
    "table(tree.pred,High.test)\n",
    "(86+57)/200"
   ]
  },
  {
   "cell_type": "code",
   "execution_count": 11,
   "metadata": {
    "collapsed": false
   },
   "outputs": [
    {
     "data": {
      "text/html": [
       "<ol class=list-inline>\n",
       "\t<li>'size'</li>\n",
       "\t<li>'dev'</li>\n",
       "\t<li>'k'</li>\n",
       "\t<li>'method'</li>\n",
       "</ol>\n"
      ],
      "text/latex": [
       "\\begin{enumerate*}\n",
       "\\item 'size'\n",
       "\\item 'dev'\n",
       "\\item 'k'\n",
       "\\item 'method'\n",
       "\\end{enumerate*}\n"
      ],
      "text/markdown": [
       "1. 'size'\n",
       "2. 'dev'\n",
       "3. 'k'\n",
       "4. 'method'\n",
       "\n",
       "\n"
      ],
      "text/plain": [
       "[1] \"size\"   \"dev\"    \"k\"      \"method\""
      ]
     },
     "metadata": {},
     "output_type": "display_data"
    }
   ],
   "source": [
    "# cv.tree()函数，通过交叉验证对树进行剪枝，确定最优的树复杂性\n",
    "# 选择对象属性FUN=prune.misclass，用分类错误率而不是cv.tree()默认的偏差作为评判标准\n",
    "# 函数cv.tree()给出了所考虑的每棵树的终端结点个数（size）、相应的分类错误率，使用的成本复杂性参数值k\n",
    "set.seed(3)\n",
    "cv.carseats=cv.tree(tree.carseats,FUN=prune.misclass)\n",
    "names(cv.carseats)"
   ]
  },
  {
   "cell_type": "code",
   "execution_count": 12,
   "metadata": {
    "collapsed": false
   },
   "outputs": [
    {
     "data": {
      "text/plain": [
       "$size\n",
       "[1] 19 17 14 13  9  7  3  2  1\n",
       "\n",
       "$dev\n",
       "[1] 55 55 53 52 50 56 69 65 80\n",
       "\n",
       "$k\n",
       "[1]       -Inf  0.0000000  0.6666667  1.0000000  1.7500000  2.0000000  4.2500000\n",
       "[8]  5.0000000 23.0000000\n",
       "\n",
       "$method\n",
       "[1] \"misclass\"\n",
       "\n",
       "attr(,\"class\")\n",
       "[1] \"prune\"         \"tree.sequence\""
      ]
     },
     "metadata": {},
     "output_type": "display_data"
    }
   ],
   "source": [
    "# 当终端结点数为9时，交叉验证错误率最低，共有50个交叉验证误差\n",
    "cv.carseats"
   ]
  },
  {
   "cell_type": "code",
   "execution_count": 13,
   "metadata": {
    "collapsed": false
   },
   "outputs": [
    {
     "data": {
      "image/png": "[encoded data removed]",
      "text/plain": [
       "plot without title"
      ]
     },
     "metadata": {},
     "output_type": "display_data"
    }
   ],
   "source": [
    "# 画出错误率对size和k的函数\n",
    "par(mfrow=c(1,2))\n",
    "plot(cv.carseats$size,cv.carseats$dev,type=\"b\")\n",
    "plot(cv.carseats$k,cv.carseats$dev,type=\"b\")"
   ]
  },
  {
   "cell_type": "code",
   "execution_count": 14,
   "metadata": {
    "collapsed": false
   },
   "outputs": [
    {
     "data": {
      "image/png": "[encoded data removed]",
      "text/plain": [
       "plot without title"
      ]
     },
     "metadata": {},
     "output_type": "display_data"
    }
   ],
   "source": [
    "# 用函数prune.misclass()剪枝，以得到有9个结点的树\n",
    "prune.carseats=prune.misclass(tree.carseats,best=9)\n",
    "plot(prune.carseats)\n",
    "text(prune.carseats,pretty=0)"
   ]
  },
  {
   "cell_type": "code",
   "execution_count": 15,
   "metadata": {
    "collapsed": false
   },
   "outputs": [
    {
     "data": {
      "text/plain": [
       "         High.test\n",
       "tree.pred No Yes\n",
       "      No  94  24\n",
       "      Yes 22  60"
      ]
     },
     "metadata": {},
     "output_type": "display_data"
    },
    {
     "data": {
      "text/html": [
       "0.77"
      ],
      "text/latex": [
       "0.77"
      ],
      "text/markdown": [
       "0.77"
      ],
      "text/plain": [
       "[1] 0.77"
      ]
     },
     "metadata": {},
     "output_type": "display_data"
    }
   ],
   "source": [
    "# 使用predict()函数测试剪枝后的树在测试集上的效果\n",
    "# 剪枝不仅生成了一棵更易于解释的树，而且提高了分类准确性\n",
    "tree.pred=predict(prune.carseats,Carseats.test,type=\"class\")\n",
    "table(tree.pred,High.test)\n",
    "(94+60)/200"
   ]
  },
  {
   "cell_type": "markdown",
   "metadata": {},
   "source": [
    "## 6.2 回归树"
   ]
  },
  {
   "cell_type": "code",
   "execution_count": 16,
   "metadata": {
    "collapsed": true
   },
   "outputs": [],
   "source": [
    "library(MASS)"
   ]
  },
  {
   "cell_type": "code",
   "execution_count": 17,
   "metadata": {
    "collapsed": false
   },
   "outputs": [
    {
     "data": {
      "text/plain": [
       "\n",
       "Regression tree:\n",
       "tree(formula = medv ~ ., data = Boston, subset = train)\n",
       "Variables actually used in tree construction:\n",
       "[1] \"lstat\" \"rm\"    \"dis\"  \n",
       "Number of terminal nodes:  8 \n",
       "Residual mean deviance:  12.65 = 3099 / 245 \n",
       "Distribution of residuals:\n",
       "     Min.   1st Qu.    Median      Mean   3rd Qu.      Max. \n",
       "-14.10000  -2.04200  -0.05357   0.00000   1.96000  12.60000 "
      ]
     },
     "metadata": {},
     "output_type": "display_data"
    }
   ],
   "source": [
    "# 用Boston数据集建立回归树，创建训练集并根据训练数据生成树\n",
    "set.seed(1)\n",
    "train = sample(1:nrow(Boston), nrow(Boston)/2)\n",
    "tree.boston=tree(medv~.,Boston,subset=train)\n",
    "summary(tree.boston)"
   ]
  },
  {
   "cell_type": "code",
   "execution_count": 18,
   "metadata": {
    "collapsed": false
   },
   "outputs": [
    {
     "data": {
      "image/png": "[encoded data removed]",
      "text/plain": [
       "plot without title"
      ]
     },
     "metadata": {},
     "output_type": "display_data"
    }
   ],
   "source": [
    "plot(tree.boston)\n",
    "text(tree.boston,pretty=0)"
   ]
  },
  {
   "cell_type": "code",
   "execution_count": 19,
   "metadata": {
    "collapsed": false
   },
   "outputs": [
    {
     "data": {
      "image/png": "[encoded data removed]",
      "text/plain": [
       "plot without title"
      ]
     },
     "metadata": {},
     "output_type": "display_data"
    }
   ],
   "source": [
    "# 用cv.tree()观察剪枝是否提升了树的预测效果\n",
    "cv.boston=cv.tree(tree.boston)\n",
    "plot(cv.boston$size,cv.boston$dev,type='b')"
   ]
  },
  {
   "cell_type": "code",
   "execution_count": 20,
   "metadata": {
    "collapsed": false
   },
   "outputs": [
    {
     "data": {
      "image/png": "[encoded data removed]",
      "text/plain": [
       "plot without title"
      ]
     },
     "metadata": {},
     "output_type": "display_data"
    }
   ],
   "source": [
    "# 使用prune.tree()函数对树剪枝\n",
    "prune.boston=prune.tree(tree.boston,best=5)\n",
    "plot(prune.boston)\n",
    "text(prune.boston,pretty=0)"
   ]
  },
  {
   "cell_type": "code",
   "execution_count": 21,
   "metadata": {
    "collapsed": true
   },
   "outputs": [],
   "source": [
    "# 交叉验证选出了未剪枝的树，在测试集上进行预测\n",
    "yhat=predict(tree.boston,newdata=Boston[-train,])"
   ]
  },
  {
   "cell_type": "code",
   "execution_count": 22,
   "metadata": {
    "collapsed": false
   },
   "outputs": [
    {
     "data": {
      "image/png": "[encoded data removed]",
      "text/plain": [
       "plot without title"
      ]
     },
     "metadata": {},
     "output_type": "display_data"
    }
   ],
   "source": [
    "boston.test=Boston[-train,\"medv\"]\n",
    "plot(yhat,boston.test)\n",
    "abline(0,1)"
   ]
  },
  {
   "cell_type": "code",
   "execution_count": 23,
   "metadata": {
    "collapsed": false
   },
   "outputs": [
    {
     "data": {
      "text/html": [
       "25.0455923126146"
      ],
      "text/latex": [
       "25.0455923126146"
      ],
      "text/markdown": [
       "25.0455923126146"
      ],
      "text/plain": [
       "[1] 25.04559"
      ]
     },
     "metadata": {},
     "output_type": "display_data"
    }
   ],
   "source": [
    "# 回归树的MSE为25.05，均方误差的平方根是5.005，意味着这个模型的测试预测值与郊区真实房价的中位数之差在5005美元之内\n",
    "mean((yhat-boston.test)^2)"
   ]
  },
  {
   "cell_type": "markdown",
   "metadata": {},
   "source": [
    "## 6.3 袋装法和随机森林"
   ]
  },
  {
   "cell_type": "code",
   "execution_count": 24,
   "metadata": {
    "collapsed": false
   },
   "outputs": [
    {
     "name": "stderr",
     "output_type": "stream",
     "text": [
      "randomForest 4.6-12\n",
      "Type rfNews() to see new features/changes/bug fixes.\n"
     ]
    }
   ],
   "source": [
    "library(randomForest)"
   ]
  },
  {
   "cell_type": "code",
   "execution_count": 25,
   "metadata": {
    "collapsed": false
   },
   "outputs": [
    {
     "data": {
      "text/plain": [
       "\n",
       "Call:\n",
       " randomForest(formula = medv ~ ., data = Boston, mtry = 13, importance = TRUE,      subset = train) \n",
       "               Type of random forest: regression\n",
       "                     Number of trees: 500\n",
       "No. of variables tried at each split: 13\n",
       "\n",
       "          Mean of squared residuals: 11.02509\n",
       "                    % Var explained: 86.65"
      ]
     },
     "metadata": {},
     "output_type": "display_data"
    }
   ],
   "source": [
    "# 袋装法是随机森林在m=p时的一种特殊情况，用randomForest()执行袋装法（mtry=13）\n",
    "set.seed(1)\n",
    "bag.boston=randomForest(medv~.,data=Boston,subset=train,mtry=13,importance=TRUE)\n",
    "bag.boston"
   ]
  },
  {
   "cell_type": "code",
   "execution_count": 26,
   "metadata": {
    "collapsed": false
   },
   "outputs": [
    {
     "data": {
      "image/png": "[encoded data removed]",
      "text/plain": [
       "plot without title"
      ]
     },
     "metadata": {},
     "output_type": "display_data"
    }
   ],
   "source": [
    "# 观察袋装法在测试集上的效果\n",
    "yhat.bag = predict(bag.boston,newdata=Boston[-train,])\n",
    "plot(yhat.bag, boston.test)\n",
    "abline(0,1)"
   ]
  },
  {
   "cell_type": "code",
   "execution_count": 27,
   "metadata": {
    "collapsed": false
   },
   "outputs": [
    {
     "data": {
      "text/html": [
       "13.4734864318741"
      ],
      "text/latex": [
       "13.4734864318741"
      ],
      "text/markdown": [
       "13.4734864318741"
      ],
      "text/plain": [
       "[1] 13.47349"
      ]
     },
     "metadata": {},
     "output_type": "display_data"
    }
   ],
   "source": [
    "mean((yhat.bag-boston.test)^2)"
   ]
  },
  {
   "cell_type": "code",
   "execution_count": 28,
   "metadata": {
    "collapsed": false
   },
   "outputs": [
    {
     "data": {
      "text/html": [
       "13.4306763829776"
      ],
      "text/latex": [
       "13.4306763829776"
      ],
      "text/markdown": [
       "13.4306763829776"
      ],
      "text/plain": [
       "[1] 13.43068"
      ]
     },
     "metadata": {},
     "output_type": "display_data"
    }
   ],
   "source": [
    "# 用参数ntree改变由randomForest()生成的树的数目\n",
    "bag.boston=randomForest(medv~.,data=Boston,subset=train,mtry=13,ntree=25)\n",
    "yhat.bag = predict(bag.boston,newdata=Boston[-train,])\n",
    "mean((yhat.bag-boston.test)^2)"
   ]
  },
  {
   "cell_type": "code",
   "execution_count": 29,
   "metadata": {
    "collapsed": false
   },
   "outputs": [
    {
     "data": {
      "text/html": [
       "11.4802165416298"
      ],
      "text/latex": [
       "11.4802165416298"
      ],
      "text/markdown": [
       "11.4802165416298"
      ],
      "text/plain": [
       "[1] 11.48022"
      ]
     },
     "metadata": {},
     "output_type": "display_data"
    }
   ],
   "source": [
    "# randomForest()默认在用回归树建立随机森林时取p/3个变量，用分类树时取sqrt(p)个变量\n",
    "# 这里取mtry=6\n",
    "set.seed(1)\n",
    "rf.boston=randomForest(medv~.,data=Boston,subset=train,mtry=6,importance=TRUE)\n",
    "yhat.rf = predict(rf.boston,newdata=Boston[-train,])\n",
    "mean((yhat.rf-boston.test)^2)"
   ]
  },
  {
   "cell_type": "code",
   "execution_count": 30,
   "metadata": {
    "collapsed": false
   },
   "outputs": [
    {
     "data": {
      "text/html": [
       "<table>\n",
       "<thead><tr><th></th><th scope=col>%IncMSE</th><th scope=col>IncNodePurity</th></tr></thead>\n",
       "<tbody>\n",
       "\t<tr><th scope=row>crim</th><td>12.547772 </td><td>1094.65382</td></tr>\n",
       "\t<tr><th scope=row>zn</th><td> 1.375489 </td><td>  64.40060</td></tr>\n",
       "\t<tr><th scope=row>indus</th><td> 9.304258 </td><td>1086.09103</td></tr>\n",
       "\t<tr><th scope=row>chas</th><td> 2.518766 </td><td>  76.36804</td></tr>\n",
       "\t<tr><th scope=row>nox</th><td>12.835614 </td><td>1008.73703</td></tr>\n",
       "\t<tr><th scope=row>rm</th><td>31.646147 </td><td>6705.02638</td></tr>\n",
       "\t<tr><th scope=row>age</th><td> 9.970243 </td><td> 575.13702</td></tr>\n",
       "\t<tr><th scope=row>dis</th><td>12.774430 </td><td>1351.01978</td></tr>\n",
       "\t<tr><th scope=row>rad</th><td> 3.911852 </td><td>  93.78200</td></tr>\n",
       "\t<tr><th scope=row>tax</th><td> 7.624043 </td><td> 453.19472</td></tr>\n",
       "\t<tr><th scope=row>ptratio</th><td>12.008194 </td><td> 919.06760</td></tr>\n",
       "\t<tr><th scope=row>black</th><td> 7.376024 </td><td> 358.96935</td></tr>\n",
       "\t<tr><th scope=row>lstat</th><td>27.666896 </td><td>6927.98475</td></tr>\n",
       "</tbody>\n",
       "</table>\n"
      ],
      "text/latex": [
       "\\begin{tabular}{r|ll}\n",
       "  & \\%IncMSE & IncNodePurity\\\\\n",
       "\\hline\n",
       "\tcrim & 12.547772  & 1094.65382\\\\\n",
       "\tzn &  1.375489  &   64.40060\\\\\n",
       "\tindus &  9.304258  & 1086.09103\\\\\n",
       "\tchas &  2.518766  &   76.36804\\\\\n",
       "\tnox & 12.835614  & 1008.73703\\\\\n",
       "\trm & 31.646147  & 6705.02638\\\\\n",
       "\tage &  9.970243  &  575.13702\\\\\n",
       "\tdis & 12.774430  & 1351.01978\\\\\n",
       "\trad &  3.911852  &   93.78200\\\\\n",
       "\ttax &  7.624043  &  453.19472\\\\\n",
       "\tptratio & 12.008194  &  919.06760\\\\\n",
       "\tblack &  7.376024  &  358.96935\\\\\n",
       "\tlstat & 27.666896  & 6927.98475\\\\\n",
       "\\end{tabular}\n"
      ],
      "text/markdown": [
       "\n",
       "| <!--/--> | %IncMSE | IncNodePurity | \n",
       "|---|---|---|---|---|---|---|---|---|---|---|---|---|\n",
       "| crim | 12.547772  | 1094.65382 | \n",
       "| zn |  1.375489  |   64.40060 | \n",
       "| indus |  9.304258  | 1086.09103 | \n",
       "| chas |  2.518766  |   76.36804 | \n",
       "| nox | 12.835614  | 1008.73703 | \n",
       "| rm | 31.646147  | 6705.02638 | \n",
       "| age |  9.970243  |  575.13702 | \n",
       "| dis | 12.774430  | 1351.01978 | \n",
       "| rad |  3.911852  |   93.78200 | \n",
       "| tax |  7.624043  |  453.19472 | \n",
       "| ptratio | 12.008194  |  919.06760 | \n",
       "| black |  7.376024  |  358.96935 | \n",
       "| lstat | 27.666896  | 6927.98475 | \n",
       "\n",
       "\n"
      ],
      "text/plain": [
       "        %IncMSE   IncNodePurity\n",
       "crim    12.547772 1094.65382   \n",
       "zn       1.375489   64.40060   \n",
       "indus    9.304258 1086.09103   \n",
       "chas     2.518766   76.36804   \n",
       "nox     12.835614 1008.73703   \n",
       "rm      31.646147 6705.02638   \n",
       "age      9.970243  575.13702   \n",
       "dis     12.774430 1351.01978   \n",
       "rad      3.911852   93.78200   \n",
       "tax      7.624043  453.19472   \n",
       "ptratio 12.008194  919.06760   \n",
       "black    7.376024  358.96935   \n",
       "lstat   27.666896 6927.98475   "
      ]
     },
     "metadata": {},
     "output_type": "display_data"
    }
   ],
   "source": [
    "# importance()浏览各变量的重要性\n",
    "# 给出变量重要性的两个度量\n",
    "# 前者为给定变量被排除在模型之外时，预测袋外样本的准确性的平均减小值\n",
    "# 后者衡量给定变量导致的分裂使结点不纯度减小的总量\n",
    "# 分类树的结点纯度由偏差衡量，回归树的结点纯度由RSS衡量\n",
    "importance(rf.boston)"
   ]
  },
  {
   "cell_type": "code",
   "execution_count": 31,
   "metadata": {
    "collapsed": false
   },
   "outputs": [
    {
     "data": {
      "image/png": "[encoded data removed]",
      "text/plain": [
       "plot without title"
      ]
     },
     "metadata": {},
     "output_type": "display_data"
    }
   ],
   "source": [
    "# varImpPlot()函数可以画出变量重要程度\n",
    "varImpPlot(rf.boston)"
   ]
  },
  {
   "cell_type": "markdown",
   "metadata": {},
   "source": [
    "## 6.4 提升法"
   ]
  },
  {
   "cell_type": "code",
   "execution_count": 32,
   "metadata": {
    "collapsed": false
   },
   "outputs": [
    {
     "name": "stderr",
     "output_type": "stream",
     "text": [
      "Warning message:\n",
      "\"package 'gbm' was built under R version 3.3.3\"Loading required package: survival\n",
      "Loading required package: lattice\n",
      "Loading required package: splines\n",
      "Loading required package: parallel\n",
      "Loaded gbm 2.1.3\n"
     ]
    },
    {
     "data": {
      "text/html": [
       "<table>\n",
       "<thead><tr><th></th><th scope=col>var</th><th scope=col>rel.inf</th></tr></thead>\n",
       "<tbody>\n",
       "\t<tr><th scope=row>lstat</th><td>lstat     </td><td>45.9627334</td></tr>\n",
       "\t<tr><th scope=row>rm</th><td>rm        </td><td>31.2238187</td></tr>\n",
       "\t<tr><th scope=row>dis</th><td>dis       </td><td> 6.8087398</td></tr>\n",
       "\t<tr><th scope=row>crim</th><td>crim      </td><td> 4.0743784</td></tr>\n",
       "\t<tr><th scope=row>nox</th><td>nox       </td><td> 2.5605001</td></tr>\n",
       "\t<tr><th scope=row>ptratio</th><td>ptratio   </td><td> 2.2748652</td></tr>\n",
       "\t<tr><th scope=row>black</th><td>black     </td><td> 1.7971159</td></tr>\n",
       "\t<tr><th scope=row>age</th><td>age       </td><td> 1.6488532</td></tr>\n",
       "\t<tr><th scope=row>tax</th><td>tax       </td><td> 1.3595005</td></tr>\n",
       "\t<tr><th scope=row>indus</th><td>indus     </td><td> 1.2705924</td></tr>\n",
       "\t<tr><th scope=row>chas</th><td>chas      </td><td> 0.8014323</td></tr>\n",
       "\t<tr><th scope=row>rad</th><td>rad       </td><td> 0.2026619</td></tr>\n",
       "\t<tr><th scope=row>zn</th><td>zn        </td><td> 0.0148083</td></tr>\n",
       "</tbody>\n",
       "</table>\n"
      ],
      "text/latex": [
       "\\begin{tabular}{r|ll}\n",
       "  & var & rel.inf\\\\\n",
       "\\hline\n",
       "\tlstat & lstat      & 45.9627334\\\\\n",
       "\trm & rm         & 31.2238187\\\\\n",
       "\tdis & dis        &  6.8087398\\\\\n",
       "\tcrim & crim       &  4.0743784\\\\\n",
       "\tnox & nox        &  2.5605001\\\\\n",
       "\tptratio & ptratio    &  2.2748652\\\\\n",
       "\tblack & black      &  1.7971159\\\\\n",
       "\tage & age        &  1.6488532\\\\\n",
       "\ttax & tax        &  1.3595005\\\\\n",
       "\tindus & indus      &  1.2705924\\\\\n",
       "\tchas & chas       &  0.8014323\\\\\n",
       "\trad & rad        &  0.2026619\\\\\n",
       "\tzn & zn         &  0.0148083\\\\\n",
       "\\end{tabular}\n"
      ],
      "text/markdown": [
       "\n",
       "| <!--/--> | var | rel.inf | \n",
       "|---|---|---|---|---|---|---|---|---|---|---|---|---|\n",
       "| lstat | lstat      | 45.9627334 | \n",
       "| rm | rm         | 31.2238187 | \n",
       "| dis | dis        |  6.8087398 | \n",
       "| crim | crim       |  4.0743784 | \n",
       "| nox | nox        |  2.5605001 | \n",
       "| ptratio | ptratio    |  2.2748652 | \n",
       "| black | black      |  1.7971159 | \n",
       "| age | age        |  1.6488532 | \n",
       "| tax | tax        |  1.3595005 | \n",
       "| indus | indus      |  1.2705924 | \n",
       "| chas | chas       |  0.8014323 | \n",
       "| rad | rad        |  0.2026619 | \n",
       "| zn | zn         |  0.0148083 | \n",
       "\n",
       "\n"
      ],
      "text/plain": [
       "        var     rel.inf   \n",
       "lstat   lstat   45.9627334\n",
       "rm      rm      31.2238187\n",
       "dis     dis      6.8087398\n",
       "crim    crim     4.0743784\n",
       "nox     nox      2.5605001\n",
       "ptratio ptratio  2.2748652\n",
       "black   black    1.7971159\n",
       "age     age      1.6488532\n",
       "tax     tax      1.3595005\n",
       "indus   indus    1.2705924\n",
       "chas    chas     0.8014323\n",
       "rad     rad      0.2026619\n",
       "zn      zn       0.0148083"
      ]
     },
     "metadata": {},
     "output_type": "display_data"
    },
    {
     "data": {
      "image/png": "[encoded data removed]",
      "text/plain": [
       "plot without title"
      ]
     },
     "metadata": {},
     "output_type": "display_data"
    }
   ],
   "source": [
    "# gbm包中的gbm()函数建立提升树\n",
    "# 回归问题，执行gbm()时选择distribution=\"gaussian\"，二分类问题，选择distribution=\"bernoulli\"\n",
    "# n.trees=5000表示提升树模型共需要5000棵树，选择interaction.depth=4限制了每棵树的深度\n",
    "library(gbm)\n",
    "set.seed(1)\n",
    "boost.boston=gbm(medv~.,data=Boston[train,],distribution=\"gaussian\",n.trees=5000,interaction.depth=4)\n",
    "summary(boost.boston)"
   ]
  },
  {
   "cell_type": "code",
   "execution_count": 33,
   "metadata": {
    "collapsed": false
   },
   "outputs": [
    {
     "data": {
      "image/png": "[encoded data removed]",
      "text/plain": [
       "plot without title"
      ]
     },
     "metadata": {},
     "output_type": "display_data"
    }
   ],
   "source": [
    "# 上图可见lstat和rm是最重要的变量\n",
    "# 画出这两个变量的偏相关图，反映排除其他变量后，所选变量对响应值的边际影响\n",
    "# 住宅价格中位数随rm的增大而增大，随lstat的增大而减小\n",
    "par(mfrow=c(1,2))\n",
    "plot(boost.boston,i=\"rm\")\n",
    "plot(boost.boston,i=\"lstat\")"
   ]
  },
  {
   "cell_type": "code",
   "execution_count": 34,
   "metadata": {
    "collapsed": false
   },
   "outputs": [
    {
     "data": {
      "text/html": [
       "11.8443423877565"
      ],
      "text/latex": [
       "11.8443423877565"
      ],
      "text/markdown": [
       "11.8443423877565"
      ],
      "text/plain": [
       "[1] 11.84434"
      ]
     },
     "metadata": {},
     "output_type": "display_data"
    }
   ],
   "source": [
    "# 在测试集上预测medv\n",
    "yhat.boost=predict(boost.boston,newdata=Boston[-train,],n.trees=5000)\n",
    "mean((yhat.boost-boston.test)^2)"
   ]
  },
  {
   "cell_type": "code",
   "execution_count": 35,
   "metadata": {
    "collapsed": false
   },
   "outputs": [
    {
     "data": {
      "text/html": [
       "11.5110925914856"
      ],
      "text/latex": [
       "11.5110925914856"
      ],
      "text/markdown": [
       "11.5110925914856"
      ],
      "text/plain": [
       "[1] 11.51109"
      ]
     },
     "metadata": {},
     "output_type": "display_data"
    }
   ],
   "source": [
    "# 设置压缩参数lambda来建立提升树，这里去lambda=0.2\n",
    "boost.boston=gbm(medv~.,data=Boston[train,],distribution=\"gaussian\",n.trees=5000,interaction.depth=4,shrinkage=0.2,verbose=F)\n",
    "yhat.boost=predict(boost.boston,newdata=Boston[-train,],n.trees=5000)\n",
    "mean((yhat.boost-boston.test)^2)"
   ]
  }
 ],
 "metadata": {
  "kernelspec": {
   "display_name": "R",
   "language": "R",
   "name": "ir"
  },
  "language_info": {
   "codemirror_mode": "r",
   "file_extension": ".r",
   "mimetype": "text/x-r-source",
   "name": "R",
   "pygments_lexer": "r",
   "version": "3.3.2"
  }
 },
 "nbformat": 4,
 "nbformat_minor": 2
}
