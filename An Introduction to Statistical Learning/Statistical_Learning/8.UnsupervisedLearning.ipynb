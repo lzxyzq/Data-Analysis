{
 "cells": [
  {
   "cell_type": "markdown",
   "metadata": {
    "collapsed": true
   },
   "source": [
    "# 8 无监督学习"
   ]
  },
  {
   "cell_type": "markdown",
   "metadata": {},
   "source": [
    "## 8.1 主成分分析"
   ]
  },
  {
   "cell_type": "code",
   "execution_count": 1,
   "metadata": {
    "collapsed": false
   },
   "outputs": [
    {
     "data": {
      "text/html": [
       "<ol class=list-inline>\n",
       "\t<li>'Alabama'</li>\n",
       "\t<li>'Alaska'</li>\n",
       "\t<li>'Arizona'</li>\n",
       "\t<li>'Arkansas'</li>\n",
       "\t<li>'California'</li>\n",
       "\t<li>'Colorado'</li>\n",
       "\t<li>'Connecticut'</li>\n",
       "\t<li>'Delaware'</li>\n",
       "\t<li>'Florida'</li>\n",
       "\t<li>'Georgia'</li>\n",
       "\t<li>'Hawaii'</li>\n",
       "\t<li>'Idaho'</li>\n",
       "\t<li>'Illinois'</li>\n",
       "\t<li>'Indiana'</li>\n",
       "\t<li>'Iowa'</li>\n",
       "\t<li>'Kansas'</li>\n",
       "\t<li>'Kentucky'</li>\n",
       "\t<li>'Louisiana'</li>\n",
       "\t<li>'Maine'</li>\n",
       "\t<li>'Maryland'</li>\n",
       "\t<li>'Massachusetts'</li>\n",
       "\t<li>'Michigan'</li>\n",
       "\t<li>'Minnesota'</li>\n",
       "\t<li>'Mississippi'</li>\n",
       "\t<li>'Missouri'</li>\n",
       "\t<li>'Montana'</li>\n",
       "\t<li>'Nebraska'</li>\n",
       "\t<li>'Nevada'</li>\n",
       "\t<li>'New Hampshire'</li>\n",
       "\t<li>'New Jersey'</li>\n",
       "\t<li>'New Mexico'</li>\n",
       "\t<li>'New York'</li>\n",
       "\t<li>'North Carolina'</li>\n",
       "\t<li>'North Dakota'</li>\n",
       "\t<li>'Ohio'</li>\n",
       "\t<li>'Oklahoma'</li>\n",
       "\t<li>'Oregon'</li>\n",
       "\t<li>'Pennsylvania'</li>\n",
       "\t<li>'Rhode Island'</li>\n",
       "\t<li>'South Carolina'</li>\n",
       "\t<li>'South Dakota'</li>\n",
       "\t<li>'Tennessee'</li>\n",
       "\t<li>'Texas'</li>\n",
       "\t<li>'Utah'</li>\n",
       "\t<li>'Vermont'</li>\n",
       "\t<li>'Virginia'</li>\n",
       "\t<li>'Washington'</li>\n",
       "\t<li>'West Virginia'</li>\n",
       "\t<li>'Wisconsin'</li>\n",
       "\t<li>'Wyoming'</li>\n",
       "</ol>\n"
      ],
      "text/latex": [
       "\\begin{enumerate*}\n",
       "\\item 'Alabama'\n",
       "\\item 'Alaska'\n",
       "\\item 'Arizona'\n",
       "\\item 'Arkansas'\n",
       "\\item 'California'\n",
       "\\item 'Colorado'\n",
       "\\item 'Connecticut'\n",
       "\\item 'Delaware'\n",
       "\\item 'Florida'\n",
       "\\item 'Georgia'\n",
       "\\item 'Hawaii'\n",
       "\\item 'Idaho'\n",
       "\\item 'Illinois'\n",
       "\\item 'Indiana'\n",
       "\\item 'Iowa'\n",
       "\\item 'Kansas'\n",
       "\\item 'Kentucky'\n",
       "\\item 'Louisiana'\n",
       "\\item 'Maine'\n",
       "\\item 'Maryland'\n",
       "\\item 'Massachusetts'\n",
       "\\item 'Michigan'\n",
       "\\item 'Minnesota'\n",
       "\\item 'Mississippi'\n",
       "\\item 'Missouri'\n",
       "\\item 'Montana'\n",
       "\\item 'Nebraska'\n",
       "\\item 'Nevada'\n",
       "\\item 'New Hampshire'\n",
       "\\item 'New Jersey'\n",
       "\\item 'New Mexico'\n",
       "\\item 'New York'\n",
       "\\item 'North Carolina'\n",
       "\\item 'North Dakota'\n",
       "\\item 'Ohio'\n",
       "\\item 'Oklahoma'\n",
       "\\item 'Oregon'\n",
       "\\item 'Pennsylvania'\n",
       "\\item 'Rhode Island'\n",
       "\\item 'South Carolina'\n",
       "\\item 'South Dakota'\n",
       "\\item 'Tennessee'\n",
       "\\item 'Texas'\n",
       "\\item 'Utah'\n",
       "\\item 'Vermont'\n",
       "\\item 'Virginia'\n",
       "\\item 'Washington'\n",
       "\\item 'West Virginia'\n",
       "\\item 'Wisconsin'\n",
       "\\item 'Wyoming'\n",
       "\\end{enumerate*}\n"
      ],
      "text/markdown": [
       "1. 'Alabama'\n",
       "2. 'Alaska'\n",
       "3. 'Arizona'\n",
       "4. 'Arkansas'\n",
       "5. 'California'\n",
       "6. 'Colorado'\n",
       "7. 'Connecticut'\n",
       "8. 'Delaware'\n",
       "9. 'Florida'\n",
       "10. 'Georgia'\n",
       "11. 'Hawaii'\n",
       "12. 'Idaho'\n",
       "13. 'Illinois'\n",
       "14. 'Indiana'\n",
       "15. 'Iowa'\n",
       "16. 'Kansas'\n",
       "17. 'Kentucky'\n",
       "18. 'Louisiana'\n",
       "19. 'Maine'\n",
       "20. 'Maryland'\n",
       "21. 'Massachusetts'\n",
       "22. 'Michigan'\n",
       "23. 'Minnesota'\n",
       "24. 'Mississippi'\n",
       "25. 'Missouri'\n",
       "26. 'Montana'\n",
       "27. 'Nebraska'\n",
       "28. 'Nevada'\n",
       "29. 'New Hampshire'\n",
       "30. 'New Jersey'\n",
       "31. 'New Mexico'\n",
       "32. 'New York'\n",
       "33. 'North Carolina'\n",
       "34. 'North Dakota'\n",
       "35. 'Ohio'\n",
       "36. 'Oklahoma'\n",
       "37. 'Oregon'\n",
       "38. 'Pennsylvania'\n",
       "39. 'Rhode Island'\n",
       "40. 'South Carolina'\n",
       "41. 'South Dakota'\n",
       "42. 'Tennessee'\n",
       "43. 'Texas'\n",
       "44. 'Utah'\n",
       "45. 'Vermont'\n",
       "46. 'Virginia'\n",
       "47. 'Washington'\n",
       "48. 'West Virginia'\n",
       "49. 'Wisconsin'\n",
       "50. 'Wyoming'\n",
       "\n",
       "\n"
      ],
      "text/plain": [
       " [1] \"Alabama\"        \"Alaska\"         \"Arizona\"        \"Arkansas\"      \n",
       " [5] \"California\"     \"Colorado\"       \"Connecticut\"    \"Delaware\"      \n",
       " [9] \"Florida\"        \"Georgia\"        \"Hawaii\"         \"Idaho\"         \n",
       "[13] \"Illinois\"       \"Indiana\"        \"Iowa\"           \"Kansas\"        \n",
       "[17] \"Kentucky\"       \"Louisiana\"      \"Maine\"          \"Maryland\"      \n",
       "[21] \"Massachusetts\"  \"Michigan\"       \"Minnesota\"      \"Mississippi\"   \n",
       "[25] \"Missouri\"       \"Montana\"        \"Nebraska\"       \"Nevada\"        \n",
       "[29] \"New Hampshire\"  \"New Jersey\"     \"New Mexico\"     \"New York\"      \n",
       "[33] \"North Carolina\" \"North Dakota\"   \"Ohio\"           \"Oklahoma\"      \n",
       "[37] \"Oregon\"         \"Pennsylvania\"   \"Rhode Island\"   \"South Carolina\"\n",
       "[41] \"South Dakota\"   \"Tennessee\"      \"Texas\"          \"Utah\"          \n",
       "[45] \"Vermont\"        \"Virginia\"       \"Washington\"     \"West Virginia\" \n",
       "[49] \"Wisconsin\"      \"Wyoming\"       "
      ]
     },
     "metadata": {},
     "output_type": "display_data"
    }
   ],
   "source": [
    "# 使用USArrests数据集进行PCA，数据集的行包括50个州，用字母顺序排列\n",
    "states=row.names(USArrests)\n",
    "states"
   ]
  },
  {
   "cell_type": "code",
   "execution_count": 2,
   "metadata": {
    "collapsed": false
   },
   "outputs": [
    {
     "data": {
      "text/html": [
       "<ol class=list-inline>\n",
       "\t<li>'Murder'</li>\n",
       "\t<li>'Assault'</li>\n",
       "\t<li>'UrbanPop'</li>\n",
       "\t<li>'Rape'</li>\n",
       "</ol>\n"
      ],
      "text/latex": [
       "\\begin{enumerate*}\n",
       "\\item 'Murder'\n",
       "\\item 'Assault'\n",
       "\\item 'UrbanPop'\n",
       "\\item 'Rape'\n",
       "\\end{enumerate*}\n"
      ],
      "text/markdown": [
       "1. 'Murder'\n",
       "2. 'Assault'\n",
       "3. 'UrbanPop'\n",
       "4. 'Rape'\n",
       "\n",
       "\n"
      ],
      "text/plain": [
       "[1] \"Murder\"   \"Assault\"  \"UrbanPop\" \"Rape\"    "
      ]
     },
     "metadata": {},
     "output_type": "display_data"
    }
   ],
   "source": [
    "# 数据集的列包含4个变量\n",
    "names(USArrests)"
   ]
  },
  {
   "cell_type": "code",
   "execution_count": 3,
   "metadata": {
    "collapsed": false
   },
   "outputs": [
    {
     "data": {
      "text/html": [
       "<dl class=dl-horizontal>\n",
       "\t<dt>Murder</dt>\n",
       "\t\t<dd>7.788</dd>\n",
       "\t<dt>Assault</dt>\n",
       "\t\t<dd>170.76</dd>\n",
       "\t<dt>UrbanPop</dt>\n",
       "\t\t<dd>65.54</dd>\n",
       "\t<dt>Rape</dt>\n",
       "\t\t<dd>21.232</dd>\n",
       "</dl>\n"
      ],
      "text/latex": [
       "\\begin{description*}\n",
       "\\item[Murder] 7.788\n",
       "\\item[Assault] 170.76\n",
       "\\item[UrbanPop] 65.54\n",
       "\\item[Rape] 21.232\n",
       "\\end{description*}\n"
      ],
      "text/markdown": [
       "Murder\n",
       ":   7.788Assault\n",
       ":   170.76UrbanPop\n",
       ":   65.54Rape\n",
       ":   21.232\n",
       "\n"
      ],
      "text/plain": [
       "  Murder  Assault UrbanPop     Rape \n",
       "   7.788  170.760   65.540   21.232 "
      ]
     },
     "metadata": {},
     "output_type": "display_data"
    }
   ],
   "source": [
    "# 变量的均值差异很大\n",
    "apply(USArrests, 2, mean)"
   ]
  },
  {
   "cell_type": "code",
   "execution_count": 4,
   "metadata": {
    "collapsed": false
   },
   "outputs": [
    {
     "data": {
      "text/html": [
       "<dl class=dl-horizontal>\n",
       "\t<dt>Murder</dt>\n",
       "\t\t<dd>18.9704653061224</dd>\n",
       "\t<dt>Assault</dt>\n",
       "\t\t<dd>6945.16571428571</dd>\n",
       "\t<dt>UrbanPop</dt>\n",
       "\t\t<dd>209.518775510204</dd>\n",
       "\t<dt>Rape</dt>\n",
       "\t\t<dd>87.7291591836735</dd>\n",
       "</dl>\n"
      ],
      "text/latex": [
       "\\begin{description*}\n",
       "\\item[Murder] 18.9704653061224\n",
       "\\item[Assault] 6945.16571428571\n",
       "\\item[UrbanPop] 209.518775510204\n",
       "\\item[Rape] 87.7291591836735\n",
       "\\end{description*}\n"
      ],
      "text/markdown": [
       "Murder\n",
       ":   18.9704653061224Assault\n",
       ":   6945.16571428571UrbanPop\n",
       ":   209.518775510204Rape\n",
       ":   87.7291591836735\n",
       "\n"
      ],
      "text/plain": [
       "    Murder    Assault   UrbanPop       Rape \n",
       "  18.97047 6945.16571  209.51878   87.72916 "
      ]
     },
     "metadata": {},
     "output_type": "display_data"
    }
   ],
   "source": [
    "# 变量的方差差异也较大\n",
    "apply(USArrests, 2, var)"
   ]
  },
  {
   "cell_type": "code",
   "execution_count": 5,
   "metadata": {
    "collapsed": true
   },
   "outputs": [],
   "source": [
    "# 所以，在进行PCA之前需要对变量进行标准化处理\n",
    "# 用prcomp()函数进行主成分分析，默认对变量进行中心化处理，设置scale=TRUE对变量进行标准化处理\n",
    "pr.out=prcomp(USArrests, scale=TRUE)"
   ]
  },
  {
   "cell_type": "code",
   "execution_count": 6,
   "metadata": {
    "collapsed": false
   },
   "outputs": [
    {
     "data": {
      "text/html": [
       "<ol class=list-inline>\n",
       "\t<li>'sdev'</li>\n",
       "\t<li>'rotation'</li>\n",
       "\t<li>'center'</li>\n",
       "\t<li>'scale'</li>\n",
       "\t<li>'x'</li>\n",
       "</ol>\n"
      ],
      "text/latex": [
       "\\begin{enumerate*}\n",
       "\\item 'sdev'\n",
       "\\item 'rotation'\n",
       "\\item 'center'\n",
       "\\item 'scale'\n",
       "\\item 'x'\n",
       "\\end{enumerate*}\n"
      ],
      "text/markdown": [
       "1. 'sdev'\n",
       "2. 'rotation'\n",
       "3. 'center'\n",
       "4. 'scale'\n",
       "5. 'x'\n",
       "\n",
       "\n"
      ],
      "text/plain": [
       "[1] \"sdev\"     \"rotation\" \"center\"   \"scale\"    \"x\"       "
      ]
     },
     "metadata": {},
     "output_type": "display_data"
    }
   ],
   "source": [
    "# prcomp()函数的输出包含许多可以用作继续分析的量\n",
    "names(pr.out)"
   ]
  },
  {
   "cell_type": "code",
   "execution_count": 7,
   "metadata": {
    "collapsed": false
   },
   "outputs": [
    {
     "data": {
      "text/html": [
       "<dl class=dl-horizontal>\n",
       "\t<dt>Murder</dt>\n",
       "\t\t<dd>7.788</dd>\n",
       "\t<dt>Assault</dt>\n",
       "\t\t<dd>170.76</dd>\n",
       "\t<dt>UrbanPop</dt>\n",
       "\t\t<dd>65.54</dd>\n",
       "\t<dt>Rape</dt>\n",
       "\t\t<dd>21.232</dd>\n",
       "</dl>\n"
      ],
      "text/latex": [
       "\\begin{description*}\n",
       "\\item[Murder] 7.788\n",
       "\\item[Assault] 170.76\n",
       "\\item[UrbanPop] 65.54\n",
       "\\item[Rape] 21.232\n",
       "\\end{description*}\n"
      ],
      "text/markdown": [
       "Murder\n",
       ":   7.788Assault\n",
       ":   170.76UrbanPop\n",
       ":   65.54Rape\n",
       ":   21.232\n",
       "\n"
      ],
      "text/plain": [
       "  Murder  Assault UrbanPop     Rape \n",
       "   7.788  170.760   65.540   21.232 "
      ]
     },
     "metadata": {},
     "output_type": "display_data"
    },
    {
     "data": {
      "text/html": [
       "<dl class=dl-horizontal>\n",
       "\t<dt>Murder</dt>\n",
       "\t\t<dd>4.35550976420929</dd>\n",
       "\t<dt>Assault</dt>\n",
       "\t\t<dd>83.3376608400171</dd>\n",
       "\t<dt>UrbanPop</dt>\n",
       "\t\t<dd>14.4747634008368</dd>\n",
       "\t<dt>Rape</dt>\n",
       "\t\t<dd>9.36638453105965</dd>\n",
       "</dl>\n"
      ],
      "text/latex": [
       "\\begin{description*}\n",
       "\\item[Murder] 4.35550976420929\n",
       "\\item[Assault] 83.3376608400171\n",
       "\\item[UrbanPop] 14.4747634008368\n",
       "\\item[Rape] 9.36638453105965\n",
       "\\end{description*}\n"
      ],
      "text/markdown": [
       "Murder\n",
       ":   4.35550976420929Assault\n",
       ":   83.3376608400171UrbanPop\n",
       ":   14.4747634008368Rape\n",
       ":   9.36638453105965\n",
       "\n"
      ],
      "text/plain": [
       "   Murder   Assault  UrbanPop      Rape \n",
       " 4.355510 83.337661 14.474763  9.366385 "
      ]
     },
     "metadata": {},
     "output_type": "display_data"
    }
   ],
   "source": [
    "# center和scale表示在实施PCA之前，进行标准化以后，变量的均值和标准差\n",
    "pr.out$center\n",
    "pr.out$scale"
   ]
  },
  {
   "cell_type": "code",
   "execution_count": 8,
   "metadata": {
    "collapsed": false
   },
   "outputs": [
    {
     "data": {
      "text/html": [
       "<table>\n",
       "<thead><tr><th></th><th scope=col>PC1</th><th scope=col>PC2</th><th scope=col>PC3</th><th scope=col>PC4</th></tr></thead>\n",
       "<tbody>\n",
       "\t<tr><th scope=row>Murder</th><td>-0.5358995 </td><td> 0.4181809 </td><td>-0.3412327 </td><td> 0.64922780</td></tr>\n",
       "\t<tr><th scope=row>Assault</th><td>-0.5831836 </td><td> 0.1879856 </td><td>-0.2681484 </td><td>-0.74340748</td></tr>\n",
       "\t<tr><th scope=row>UrbanPop</th><td>-0.2781909 </td><td>-0.8728062 </td><td>-0.3780158 </td><td> 0.13387773</td></tr>\n",
       "\t<tr><th scope=row>Rape</th><td>-0.5434321 </td><td>-0.1673186 </td><td> 0.8177779 </td><td> 0.08902432</td></tr>\n",
       "</tbody>\n",
       "</table>\n"
      ],
      "text/latex": [
       "\\begin{tabular}{r|llll}\n",
       "  & PC1 & PC2 & PC3 & PC4\\\\\n",
       "\\hline\n",
       "\tMurder & -0.5358995  &  0.4181809  & -0.3412327  &  0.64922780\\\\\n",
       "\tAssault & -0.5831836  &  0.1879856  & -0.2681484  & -0.74340748\\\\\n",
       "\tUrbanPop & -0.2781909  & -0.8728062  & -0.3780158  &  0.13387773\\\\\n",
       "\tRape & -0.5434321  & -0.1673186  &  0.8177779  &  0.08902432\\\\\n",
       "\\end{tabular}\n"
      ],
      "text/markdown": [
       "\n",
       "| <!--/--> | PC1 | PC2 | PC3 | PC4 | \n",
       "|---|---|---|---|\n",
       "| Murder | -0.5358995  |  0.4181809  | -0.3412327  |  0.64922780 | \n",
       "| Assault | -0.5831836  |  0.1879856  | -0.2681484  | -0.74340748 | \n",
       "| UrbanPop | -0.2781909  | -0.8728062  | -0.3780158  |  0.13387773 | \n",
       "| Rape | -0.5434321  | -0.1673186  |  0.8177779  |  0.08902432 | \n",
       "\n",
       "\n"
      ],
      "text/plain": [
       "         PC1        PC2        PC3        PC4        \n",
       "Murder   -0.5358995  0.4181809 -0.3412327  0.64922780\n",
       "Assault  -0.5831836  0.1879856 -0.2681484 -0.74340748\n",
       "UrbanPop -0.2781909 -0.8728062 -0.3780158  0.13387773\n",
       "Rape     -0.5434321 -0.1673186  0.8177779  0.08902432"
      ]
     },
     "metadata": {},
     "output_type": "display_data"
    }
   ],
   "source": [
    "# rotation矩阵提供了主成分载荷信息，pr.out$rotation的列包含对应的主成分载荷向量\n",
    "pr.out$rotation"
   ]
  },
  {
   "cell_type": "code",
   "execution_count": 9,
   "metadata": {
    "collapsed": false
   },
   "outputs": [
    {
     "data": {
      "text/html": [
       "<ol class=list-inline>\n",
       "\t<li>50</li>\n",
       "\t<li>4</li>\n",
       "</ol>\n"
      ],
      "text/latex": [
       "\\begin{enumerate*}\n",
       "\\item 50\n",
       "\\item 4\n",
       "\\end{enumerate*}\n"
      ],
      "text/markdown": [
       "1. 50\n",
       "2. 4\n",
       "\n",
       "\n"
      ],
      "text/plain": [
       "[1] 50  4"
      ]
     },
     "metadata": {},
     "output_type": "display_data"
    }
   ],
   "source": [
    "# x矩阵的列就是主成分得分向量，即x矩阵的第k列就是第k个主成分得分向量\n",
    "dim(pr.out$x)"
   ]
  },
  {
   "cell_type": "code",
   "execution_count": 10,
   "metadata": {
    "collapsed": false
   },
   "outputs": [
    {
     "data": {
      "image/png": "[encoded data removed]",
      "text/plain": [
       "plot without title"
      ]
     },
     "metadata": {},
     "output_type": "display_data"
    }
   ],
   "source": [
    "# 绘制前两个主成分的双标图\n",
    "# scale=0表示载荷箭头所指的变量经过了标准化，使用其他scale值会得到略有不同的双标图，其解释也不一样\n",
    "biplot(pr.out, scale=0)"
   ]
  },
  {
   "cell_type": "code",
   "execution_count": 11,
   "metadata": {
    "collapsed": false
   },
   "outputs": [
    {
     "data": {
      "image/png": "[encoded data removed]",
      "text/plain": [
       "plot without title"
      ]
     },
     "metadata": {},
     "output_type": "display_data"
    }
   ],
   "source": [
    "# 主成分在符号可变的意义下唯一\n",
    "pr.out$rotation=-pr.out$rotation\n",
    "pr.out$x=-pr.out$x\n",
    "biplot(pr.out, scale=0)"
   ]
  },
  {
   "cell_type": "code",
   "execution_count": 12,
   "metadata": {
    "collapsed": false
   },
   "outputs": [
    {
     "data": {
      "text/html": [
       "<ol class=list-inline>\n",
       "\t<li>1.57487827439123</li>\n",
       "\t<li>0.994869414817764</li>\n",
       "\t<li>0.597129115502527</li>\n",
       "\t<li>0.41644938195396</li>\n",
       "</ol>\n"
      ],
      "text/latex": [
       "\\begin{enumerate*}\n",
       "\\item 1.57487827439123\n",
       "\\item 0.994869414817764\n",
       "\\item 0.597129115502527\n",
       "\\item 0.41644938195396\n",
       "\\end{enumerate*}\n"
      ],
      "text/markdown": [
       "1. 1.57487827439123\n",
       "2. 0.994869414817764\n",
       "3. 0.597129115502527\n",
       "4. 0.41644938195396\n",
       "\n",
       "\n"
      ],
      "text/plain": [
       "[1] 1.5748783 0.9948694 0.5971291 0.4164494"
      ]
     },
     "metadata": {},
     "output_type": "display_data"
    },
    {
     "data": {
      "text/html": [
       "<ol class=list-inline>\n",
       "\t<li>2.48024157914949</li>\n",
       "\t<li>0.98976515253984</li>\n",
       "\t<li>0.35656318058083</li>\n",
       "\t<li>0.173430087729835</li>\n",
       "</ol>\n"
      ],
      "text/latex": [
       "\\begin{enumerate*}\n",
       "\\item 2.48024157914949\n",
       "\\item 0.98976515253984\n",
       "\\item 0.35656318058083\n",
       "\\item 0.173430087729835\n",
       "\\end{enumerate*}\n"
      ],
      "text/markdown": [
       "1. 2.48024157914949\n",
       "2. 0.98976515253984\n",
       "3. 0.35656318058083\n",
       "4. 0.173430087729835\n",
       "\n",
       "\n"
      ],
      "text/plain": [
       "[1] 2.4802416 0.9897652 0.3565632 0.1734301"
      ]
     },
     "metadata": {},
     "output_type": "display_data"
    }
   ],
   "source": [
    "# 返回每个主成分的标准差和方差\n",
    "pr.out$sdev\n",
    "pr.var=pr.out$sdev^2\n",
    "pr.var"
   ]
  },
  {
   "cell_type": "code",
   "execution_count": 13,
   "metadata": {
    "collapsed": false
   },
   "outputs": [
    {
     "data": {
      "text/html": [
       "<ol class=list-inline>\n",
       "\t<li>0.620060394787374</li>\n",
       "\t<li>0.24744128813496</li>\n",
       "\t<li>0.0891407951452075</li>\n",
       "\t<li>0.0433575219324588</li>\n",
       "</ol>\n"
      ],
      "text/latex": [
       "\\begin{enumerate*}\n",
       "\\item 0.620060394787374\n",
       "\\item 0.24744128813496\n",
       "\\item 0.0891407951452075\n",
       "\\item 0.0433575219324588\n",
       "\\end{enumerate*}\n"
      ],
      "text/markdown": [
       "1. 0.620060394787374\n",
       "2. 0.24744128813496\n",
       "3. 0.0891407951452075\n",
       "4. 0.0433575219324588\n",
       "\n",
       "\n"
      ],
      "text/plain": [
       "[1] 0.62006039 0.24744129 0.08914080 0.04335752"
      ]
     },
     "metadata": {},
     "output_type": "display_data"
    }
   ],
   "source": [
    "# 计算每个主成分的方差解释比例\n",
    "pve=pr.var/sum(pr.var)\n",
    "pve"
   ]
  },
  {
   "cell_type": "code",
   "execution_count": 14,
   "metadata": {
    "collapsed": false
   },
   "outputs": [
    {
     "data": {
      "image/png": "[encoded data removed]",
      "text/plain": [
       "plot without title"
      ]
     },
     "metadata": {},
     "output_type": "display_data"
    },
    {
     "data": {
      "image/png": "[encoded data removed]",
      "text/plain": [
       "plot without title"
      ]
     },
     "metadata": {},
     "output_type": "display_data"
    }
   ],
   "source": [
    "# 绘制每个主成分的PVE和累积PVE图\n",
    "plot(pve, xlab=\"Principal Component\", ylab=\"Proportion of Variance Explained\", ylim=c(0,1),type='b')\n",
    "plot(cumsum(pve), xlab=\"Principal Component\", ylab=\"Cumulative Proportion of Variance Explained\", ylim=c(0,1),type='b')"
   ]
  },
  {
   "cell_type": "markdown",
   "metadata": {},
   "source": [
    "## 8.2 聚类分析"
   ]
  },
  {
   "cell_type": "markdown",
   "metadata": {},
   "source": [
    "### 8.2.1 K均值聚类"
   ]
  },
  {
   "cell_type": "code",
   "execution_count": 15,
   "metadata": {
    "collapsed": false
   },
   "outputs": [],
   "source": [
    "# 创建一个真实类别为2类的数据集，前25个观测相对后25个观测有一个均值漂移\n",
    "set.seed(2)\n",
    "x=matrix(rnorm(50*2), ncol=2)\n",
    "x[1:25,1]=x[1:25,1]+3\n",
    "x[1:25,2]=x[1:25,2]-4"
   ]
  },
  {
   "cell_type": "code",
   "execution_count": 16,
   "metadata": {
    "collapsed": true
   },
   "outputs": [],
   "source": [
    "# 进行K=2的K均值聚类\n",
    "km.out=kmeans(x,2,nstart=20)"
   ]
  },
  {
   "cell_type": "code",
   "execution_count": 17,
   "metadata": {
    "collapsed": false,
    "scrolled": true
   },
   "outputs": [
    {
     "data": {
      "text/html": [
       "<ol class=list-inline>\n",
       "\t<li>2</li>\n",
       "\t<li>2</li>\n",
       "\t<li>2</li>\n",
       "\t<li>2</li>\n",
       "\t<li>2</li>\n",
       "\t<li>2</li>\n",
       "\t<li>2</li>\n",
       "\t<li>2</li>\n",
       "\t<li>2</li>\n",
       "\t<li>2</li>\n",
       "\t<li>2</li>\n",
       "\t<li>2</li>\n",
       "\t<li>2</li>\n",
       "\t<li>2</li>\n",
       "\t<li>2</li>\n",
       "\t<li>2</li>\n",
       "\t<li>2</li>\n",
       "\t<li>2</li>\n",
       "\t<li>2</li>\n",
       "\t<li>2</li>\n",
       "\t<li>2</li>\n",
       "\t<li>2</li>\n",
       "\t<li>2</li>\n",
       "\t<li>2</li>\n",
       "\t<li>2</li>\n",
       "\t<li>1</li>\n",
       "\t<li>1</li>\n",
       "\t<li>1</li>\n",
       "\t<li>1</li>\n",
       "\t<li>1</li>\n",
       "\t<li>1</li>\n",
       "\t<li>1</li>\n",
       "\t<li>1</li>\n",
       "\t<li>1</li>\n",
       "\t<li>1</li>\n",
       "\t<li>1</li>\n",
       "\t<li>1</li>\n",
       "\t<li>1</li>\n",
       "\t<li>1</li>\n",
       "\t<li>1</li>\n",
       "\t<li>1</li>\n",
       "\t<li>1</li>\n",
       "\t<li>1</li>\n",
       "\t<li>1</li>\n",
       "\t<li>1</li>\n",
       "\t<li>1</li>\n",
       "\t<li>1</li>\n",
       "\t<li>1</li>\n",
       "\t<li>1</li>\n",
       "\t<li>1</li>\n",
       "</ol>\n"
      ],
      "text/latex": [
       "\\begin{enumerate*}\n",
       "\\item 2\n",
       "\\item 2\n",
       "\\item 2\n",
       "\\item 2\n",
       "\\item 2\n",
       "\\item 2\n",
       "\\item 2\n",
       "\\item 2\n",
       "\\item 2\n",
       "\\item 2\n",
       "\\item 2\n",
       "\\item 2\n",
       "\\item 2\n",
       "\\item 2\n",
       "\\item 2\n",
       "\\item 2\n",
       "\\item 2\n",
       "\\item 2\n",
       "\\item 2\n",
       "\\item 2\n",
       "\\item 2\n",
       "\\item 2\n",
       "\\item 2\n",
       "\\item 2\n",
       "\\item 2\n",
       "\\item 1\n",
       "\\item 1\n",
       "\\item 1\n",
       "\\item 1\n",
       "\\item 1\n",
       "\\item 1\n",
       "\\item 1\n",
       "\\item 1\n",
       "\\item 1\n",
       "\\item 1\n",
       "\\item 1\n",
       "\\item 1\n",
       "\\item 1\n",
       "\\item 1\n",
       "\\item 1\n",
       "\\item 1\n",
       "\\item 1\n",
       "\\item 1\n",
       "\\item 1\n",
       "\\item 1\n",
       "\\item 1\n",
       "\\item 1\n",
       "\\item 1\n",
       "\\item 1\n",
       "\\item 1\n",
       "\\end{enumerate*}\n"
      ],
      "text/markdown": [
       "1. 2\n",
       "2. 2\n",
       "3. 2\n",
       "4. 2\n",
       "5. 2\n",
       "6. 2\n",
       "7. 2\n",
       "8. 2\n",
       "9. 2\n",
       "10. 2\n",
       "11. 2\n",
       "12. 2\n",
       "13. 2\n",
       "14. 2\n",
       "15. 2\n",
       "16. 2\n",
       "17. 2\n",
       "18. 2\n",
       "19. 2\n",
       "20. 2\n",
       "21. 2\n",
       "22. 2\n",
       "23. 2\n",
       "24. 2\n",
       "25. 2\n",
       "26. 1\n",
       "27. 1\n",
       "28. 1\n",
       "29. 1\n",
       "30. 1\n",
       "31. 1\n",
       "32. 1\n",
       "33. 1\n",
       "34. 1\n",
       "35. 1\n",
       "36. 1\n",
       "37. 1\n",
       "38. 1\n",
       "39. 1\n",
       "40. 1\n",
       "41. 1\n",
       "42. 1\n",
       "43. 1\n",
       "44. 1\n",
       "45. 1\n",
       "46. 1\n",
       "47. 1\n",
       "48. 1\n",
       "49. 1\n",
       "50. 1\n",
       "\n",
       "\n"
      ],
      "text/plain": [
       " [1] 2 2 2 2 2 2 2 2 2 2 2 2 2 2 2 2 2 2 2 2 2 2 2 2 2 1 1 1 1 1 1 1 1 1 1 1 1 1\n",
       "[39] 1 1 1 1 1 1 1 1 1 1 1 1"
      ]
     },
     "metadata": {},
     "output_type": "display_data"
    }
   ],
   "source": [
    "# 返回观测的聚类结果\n",
    "km.out$cluster"
   ]
  },
  {
   "cell_type": "code",
   "execution_count": 18,
   "metadata": {
    "collapsed": false
   },
   "outputs": [
    {
     "data": {
      "image/png": "[encoded data removed]",
      "text/plain": [
       "Plot with title \"K-Means Clustering Results with K=2\""
      ]
     },
     "metadata": {},
     "output_type": "display_data"
    }
   ],
   "source": [
    "# 根据分类结果对观测着色，绘制包含分类信息的图\n",
    "# 如果数据是二维的，各个观测的结果易于绘制；如果变量个数多于两个，可以先进行PCA，绘制前2个主成分向量的图\n",
    "plot(x, col=(km.out$cluster+1), main=\"K-Means Clustering Results with K=2\", xlab=\"\", ylab=\"\", pch=20, cex=2)"
   ]
  },
  {
   "cell_type": "code",
   "execution_count": 19,
   "metadata": {
    "collapsed": false
   },
   "outputs": [
    {
     "data": {
      "text/plain": [
       "K-means clustering with 3 clusters of sizes 10, 23, 17\n",
       "\n",
       "Cluster means:\n",
       "        [,1]        [,2]\n",
       "1  2.3001545 -2.69622023\n",
       "2 -0.3820397 -0.08740753\n",
       "3  3.7789567 -4.56200798\n",
       "\n",
       "Clustering vector:\n",
       " [1] 3 1 3 1 3 3 3 1 3 1 3 1 3 1 3 1 3 3 3 3 3 1 3 3 3 2 2 2 2 2 2 2 2 2 2 2 2 2\n",
       "[39] 2 2 2 2 2 1 2 1 2 2 2 2\n",
       "\n",
       "Within cluster sum of squares by cluster:\n",
       "[1] 19.56137 52.67700 25.74089\n",
       " (between_SS / total_SS =  79.3 %)\n",
       "\n",
       "Available components:\n",
       "\n",
       "[1] \"cluster\"      \"centers\"      \"totss\"        \"withinss\"     \"tot.withinss\"\n",
       "[6] \"betweenss\"    \"size\"         \"iter\"         \"ifault\"      "
      ]
     },
     "metadata": {},
     "output_type": "display_data"
    }
   ],
   "source": [
    "# 现实情况下，数据的真实聚类数是未知的，尝试进行K=3的K均值聚类\n",
    "set.seed(4)\n",
    "km.out=kmeans(x,3,nstart=20)\n",
    "km.out"
   ]
  },
  {
   "cell_type": "code",
   "execution_count": 20,
   "metadata": {
    "collapsed": false
   },
   "outputs": [
    {
     "data": {
      "image/png": "[encoded data removed]",
      "text/plain": [
       "Plot with title \"K-Means Clustering Results with K=3\""
      ]
     },
     "metadata": {},
     "output_type": "display_data"
    }
   ],
   "source": [
    "# 当K=3时，K均值聚类将两个类重新拆分\n",
    "plot(x, col=(km.out$cluster+1), main=\"K-Means Clustering Results with K=3\", xlab=\"\", ylab=\"\", pch=20, cex=2)"
   ]
  },
  {
   "cell_type": "code",
   "execution_count": 21,
   "metadata": {
    "collapsed": false
   },
   "outputs": [
    {
     "data": {
      "text/html": [
       "104.331921973392"
      ],
      "text/latex": [
       "104.331921973392"
      ],
      "text/markdown": [
       "104.331921973392"
      ],
      "text/plain": [
       "[1] 104.3319"
      ]
     },
     "metadata": {},
     "output_type": "display_data"
    },
    {
     "data": {
      "text/html": [
       "97.9792674793981"
      ],
      "text/latex": [
       "97.9792674793981"
      ],
      "text/markdown": [
       "97.9792674793981"
      ],
      "text/plain": [
       "[1] 97.97927"
      ]
     },
     "metadata": {},
     "output_type": "display_data"
    }
   ],
   "source": [
    "# 比较nstart=1和nstart=20的聚类效果，km.out$tot.withiness表示总的类内平方和，每个类的组内平方和保存在km.out$withiness向量中\n",
    "# 运行K均值聚类时，建议选取一个较大的nstart值，避免产生不理想的局部最优解\n",
    "# 建议用set.seed()函数产生随机种子，保证K均值聚类的输出结果可以复现\n",
    "set.seed(3)\n",
    "km.out=kmeans(x,3,nstart=1)\n",
    "km.out$tot.withinss\n",
    "\n",
    "km.out=kmeans(x,3,nstart=20)\n",
    "km.out$tot.withinss"
   ]
  },
  {
   "cell_type": "markdown",
   "metadata": {},
   "source": [
    "### 8.2.2 系统聚类法"
   ]
  },
  {
   "cell_type": "code",
   "execution_count": 22,
   "metadata": {
    "collapsed": true
   },
   "outputs": [],
   "source": [
    "# 分别用最长距离法、最短距离法、类平均法作为距离方式，用欧氏距离作为相异度指标进行系统聚类\n",
    "# dist()函数用于计算50*50的观测间欧氏距离矩阵\n",
    "hc.complete=hclust(dist(x), method=\"complete\")\n",
    "hc.single=hclust(dist(x), method=\"single\")\n",
    "hc.average=hclust(dist(x), method=\"average\")"
   ]
  },
  {
   "cell_type": "code",
   "execution_count": 23,
   "metadata": {
    "collapsed": false
   },
   "outputs": [
    {
     "data": {
      "image/png": "[encoded data removed]",
      "text/plain": [
       "Plot with title \"Complete Linkage\""
      ]
     },
     "metadata": {},
     "output_type": "display_data"
    },
    {
     "data": {
      "image/png": "[encoded data removed]",
      "text/plain": [
       "Plot with title \"Single Linkage\""
      ]
     },
     "metadata": {},
     "output_type": "display_data"
    },
    {
     "data": {
      "image/png": "[encoded data removed]",
      "text/plain": [
       "Plot with title \"Average Linkage\""
      ]
     },
     "metadata": {},
     "output_type": "display_data"
    }
   ],
   "source": [
    "# plot()函数绘制谱系图，谱系图底部的数字代表各个观测\n",
    "#par(mfrow=c(1,3))\n",
    "plot(hc.complete,main=\"Complete Linkage\", xlab=\"\", sub=\"\", cex=.9)\n",
    "plot(hc.single, main=\"Single Linkage\", xlab=\"\", sub=\"\", cex=.9)\n",
    "plot(hc.average, main=\"Average Linkage\", xlab=\"\", sub=\"\", cex=.9)"
   ]
  },
  {
   "cell_type": "code",
   "execution_count": 24,
   "metadata": {
    "collapsed": false
   },
   "outputs": [
    {
     "data": {
      "text/html": [
       "<ol class=list-inline>\n",
       "\t<li>1</li>\n",
       "\t<li>1</li>\n",
       "\t<li>1</li>\n",
       "\t<li>1</li>\n",
       "\t<li>1</li>\n",
       "\t<li>1</li>\n",
       "\t<li>1</li>\n",
       "\t<li>1</li>\n",
       "\t<li>1</li>\n",
       "\t<li>1</li>\n",
       "\t<li>1</li>\n",
       "\t<li>1</li>\n",
       "\t<li>1</li>\n",
       "\t<li>1</li>\n",
       "\t<li>1</li>\n",
       "\t<li>1</li>\n",
       "\t<li>1</li>\n",
       "\t<li>1</li>\n",
       "\t<li>1</li>\n",
       "\t<li>1</li>\n",
       "\t<li>1</li>\n",
       "\t<li>1</li>\n",
       "\t<li>1</li>\n",
       "\t<li>1</li>\n",
       "\t<li>1</li>\n",
       "\t<li>2</li>\n",
       "\t<li>2</li>\n",
       "\t<li>2</li>\n",
       "\t<li>2</li>\n",
       "\t<li>2</li>\n",
       "\t<li>2</li>\n",
       "\t<li>2</li>\n",
       "\t<li>2</li>\n",
       "\t<li>2</li>\n",
       "\t<li>2</li>\n",
       "\t<li>2</li>\n",
       "\t<li>2</li>\n",
       "\t<li>2</li>\n",
       "\t<li>2</li>\n",
       "\t<li>2</li>\n",
       "\t<li>2</li>\n",
       "\t<li>2</li>\n",
       "\t<li>2</li>\n",
       "\t<li>2</li>\n",
       "\t<li>2</li>\n",
       "\t<li>2</li>\n",
       "\t<li>2</li>\n",
       "\t<li>2</li>\n",
       "\t<li>2</li>\n",
       "\t<li>2</li>\n",
       "</ol>\n"
      ],
      "text/latex": [
       "\\begin{enumerate*}\n",
       "\\item 1\n",
       "\\item 1\n",
       "\\item 1\n",
       "\\item 1\n",
       "\\item 1\n",
       "\\item 1\n",
       "\\item 1\n",
       "\\item 1\n",
       "\\item 1\n",
       "\\item 1\n",
       "\\item 1\n",
       "\\item 1\n",
       "\\item 1\n",
       "\\item 1\n",
       "\\item 1\n",
       "\\item 1\n",
       "\\item 1\n",
       "\\item 1\n",
       "\\item 1\n",
       "\\item 1\n",
       "\\item 1\n",
       "\\item 1\n",
       "\\item 1\n",
       "\\item 1\n",
       "\\item 1\n",
       "\\item 2\n",
       "\\item 2\n",
       "\\item 2\n",
       "\\item 2\n",
       "\\item 2\n",
       "\\item 2\n",
       "\\item 2\n",
       "\\item 2\n",
       "\\item 2\n",
       "\\item 2\n",
       "\\item 2\n",
       "\\item 2\n",
       "\\item 2\n",
       "\\item 2\n",
       "\\item 2\n",
       "\\item 2\n",
       "\\item 2\n",
       "\\item 2\n",
       "\\item 2\n",
       "\\item 2\n",
       "\\item 2\n",
       "\\item 2\n",
       "\\item 2\n",
       "\\item 2\n",
       "\\item 2\n",
       "\\end{enumerate*}\n"
      ],
      "text/markdown": [
       "1. 1\n",
       "2. 1\n",
       "3. 1\n",
       "4. 1\n",
       "5. 1\n",
       "6. 1\n",
       "7. 1\n",
       "8. 1\n",
       "9. 1\n",
       "10. 1\n",
       "11. 1\n",
       "12. 1\n",
       "13. 1\n",
       "14. 1\n",
       "15. 1\n",
       "16. 1\n",
       "17. 1\n",
       "18. 1\n",
       "19. 1\n",
       "20. 1\n",
       "21. 1\n",
       "22. 1\n",
       "23. 1\n",
       "24. 1\n",
       "25. 1\n",
       "26. 2\n",
       "27. 2\n",
       "28. 2\n",
       "29. 2\n",
       "30. 2\n",
       "31. 2\n",
       "32. 2\n",
       "33. 2\n",
       "34. 2\n",
       "35. 2\n",
       "36. 2\n",
       "37. 2\n",
       "38. 2\n",
       "39. 2\n",
       "40. 2\n",
       "41. 2\n",
       "42. 2\n",
       "43. 2\n",
       "44. 2\n",
       "45. 2\n",
       "46. 2\n",
       "47. 2\n",
       "48. 2\n",
       "49. 2\n",
       "50. 2\n",
       "\n",
       "\n"
      ],
      "text/plain": [
       " [1] 1 1 1 1 1 1 1 1 1 1 1 1 1 1 1 1 1 1 1 1 1 1 1 1 1 2 2 2 2 2 2 2 2 2 2 2 2 2\n",
       "[39] 2 2 2 2 2 2 2 2 2 2 2 2"
      ]
     },
     "metadata": {},
     "output_type": "display_data"
    },
    {
     "data": {
      "text/html": [
       "<ol class=list-inline>\n",
       "\t<li>1</li>\n",
       "\t<li>1</li>\n",
       "\t<li>1</li>\n",
       "\t<li>1</li>\n",
       "\t<li>1</li>\n",
       "\t<li>1</li>\n",
       "\t<li>1</li>\n",
       "\t<li>1</li>\n",
       "\t<li>1</li>\n",
       "\t<li>1</li>\n",
       "\t<li>1</li>\n",
       "\t<li>1</li>\n",
       "\t<li>1</li>\n",
       "\t<li>1</li>\n",
       "\t<li>1</li>\n",
       "\t<li>2</li>\n",
       "\t<li>1</li>\n",
       "\t<li>1</li>\n",
       "\t<li>1</li>\n",
       "\t<li>1</li>\n",
       "\t<li>1</li>\n",
       "\t<li>1</li>\n",
       "\t<li>1</li>\n",
       "\t<li>1</li>\n",
       "\t<li>1</li>\n",
       "\t<li>1</li>\n",
       "\t<li>1</li>\n",
       "\t<li>1</li>\n",
       "\t<li>1</li>\n",
       "\t<li>1</li>\n",
       "\t<li>1</li>\n",
       "\t<li>1</li>\n",
       "\t<li>1</li>\n",
       "\t<li>1</li>\n",
       "\t<li>1</li>\n",
       "\t<li>1</li>\n",
       "\t<li>1</li>\n",
       "\t<li>1</li>\n",
       "\t<li>1</li>\n",
       "\t<li>1</li>\n",
       "\t<li>1</li>\n",
       "\t<li>1</li>\n",
       "\t<li>1</li>\n",
       "\t<li>1</li>\n",
       "\t<li>1</li>\n",
       "\t<li>1</li>\n",
       "\t<li>1</li>\n",
       "\t<li>1</li>\n",
       "\t<li>1</li>\n",
       "\t<li>1</li>\n",
       "</ol>\n"
      ],
      "text/latex": [
       "\\begin{enumerate*}\n",
       "\\item 1\n",
       "\\item 1\n",
       "\\item 1\n",
       "\\item 1\n",
       "\\item 1\n",
       "\\item 1\n",
       "\\item 1\n",
       "\\item 1\n",
       "\\item 1\n",
       "\\item 1\n",
       "\\item 1\n",
       "\\item 1\n",
       "\\item 1\n",
       "\\item 1\n",
       "\\item 1\n",
       "\\item 2\n",
       "\\item 1\n",
       "\\item 1\n",
       "\\item 1\n",
       "\\item 1\n",
       "\\item 1\n",
       "\\item 1\n",
       "\\item 1\n",
       "\\item 1\n",
       "\\item 1\n",
       "\\item 1\n",
       "\\item 1\n",
       "\\item 1\n",
       "\\item 1\n",
       "\\item 1\n",
       "\\item 1\n",
       "\\item 1\n",
       "\\item 1\n",
       "\\item 1\n",
       "\\item 1\n",
       "\\item 1\n",
       "\\item 1\n",
       "\\item 1\n",
       "\\item 1\n",
       "\\item 1\n",
       "\\item 1\n",
       "\\item 1\n",
       "\\item 1\n",
       "\\item 1\n",
       "\\item 1\n",
       "\\item 1\n",
       "\\item 1\n",
       "\\item 1\n",
       "\\item 1\n",
       "\\item 1\n",
       "\\end{enumerate*}\n"
      ],
      "text/markdown": [
       "1. 1\n",
       "2. 1\n",
       "3. 1\n",
       "4. 1\n",
       "5. 1\n",
       "6. 1\n",
       "7. 1\n",
       "8. 1\n",
       "9. 1\n",
       "10. 1\n",
       "11. 1\n",
       "12. 1\n",
       "13. 1\n",
       "14. 1\n",
       "15. 1\n",
       "16. 2\n",
       "17. 1\n",
       "18. 1\n",
       "19. 1\n",
       "20. 1\n",
       "21. 1\n",
       "22. 1\n",
       "23. 1\n",
       "24. 1\n",
       "25. 1\n",
       "26. 1\n",
       "27. 1\n",
       "28. 1\n",
       "29. 1\n",
       "30. 1\n",
       "31. 1\n",
       "32. 1\n",
       "33. 1\n",
       "34. 1\n",
       "35. 1\n",
       "36. 1\n",
       "37. 1\n",
       "38. 1\n",
       "39. 1\n",
       "40. 1\n",
       "41. 1\n",
       "42. 1\n",
       "43. 1\n",
       "44. 1\n",
       "45. 1\n",
       "46. 1\n",
       "47. 1\n",
       "48. 1\n",
       "49. 1\n",
       "50. 1\n",
       "\n",
       "\n"
      ],
      "text/plain": [
       " [1] 1 1 1 1 1 1 1 1 1 1 1 1 1 1 1 2 1 1 1 1 1 1 1 1 1 1 1 1 1 1 1 1 1 1 1 1 1 1\n",
       "[39] 1 1 1 1 1 1 1 1 1 1 1 1"
      ]
     },
     "metadata": {},
     "output_type": "display_data"
    },
    {
     "data": {
      "text/html": [
       "<ol class=list-inline>\n",
       "\t<li>1</li>\n",
       "\t<li>1</li>\n",
       "\t<li>1</li>\n",
       "\t<li>1</li>\n",
       "\t<li>1</li>\n",
       "\t<li>1</li>\n",
       "\t<li>1</li>\n",
       "\t<li>1</li>\n",
       "\t<li>1</li>\n",
       "\t<li>1</li>\n",
       "\t<li>1</li>\n",
       "\t<li>1</li>\n",
       "\t<li>1</li>\n",
       "\t<li>1</li>\n",
       "\t<li>1</li>\n",
       "\t<li>1</li>\n",
       "\t<li>1</li>\n",
       "\t<li>1</li>\n",
       "\t<li>1</li>\n",
       "\t<li>1</li>\n",
       "\t<li>1</li>\n",
       "\t<li>1</li>\n",
       "\t<li>1</li>\n",
       "\t<li>1</li>\n",
       "\t<li>1</li>\n",
       "\t<li>2</li>\n",
       "\t<li>2</li>\n",
       "\t<li>2</li>\n",
       "\t<li>2</li>\n",
       "\t<li>2</li>\n",
       "\t<li>2</li>\n",
       "\t<li>2</li>\n",
       "\t<li>1</li>\n",
       "\t<li>2</li>\n",
       "\t<li>2</li>\n",
       "\t<li>2</li>\n",
       "\t<li>2</li>\n",
       "\t<li>2</li>\n",
       "\t<li>2</li>\n",
       "\t<li>2</li>\n",
       "\t<li>2</li>\n",
       "\t<li>2</li>\n",
       "\t<li>2</li>\n",
       "\t<li>1</li>\n",
       "\t<li>2</li>\n",
       "\t<li>1</li>\n",
       "\t<li>2</li>\n",
       "\t<li>2</li>\n",
       "\t<li>2</li>\n",
       "\t<li>2</li>\n",
       "</ol>\n"
      ],
      "text/latex": [
       "\\begin{enumerate*}\n",
       "\\item 1\n",
       "\\item 1\n",
       "\\item 1\n",
       "\\item 1\n",
       "\\item 1\n",
       "\\item 1\n",
       "\\item 1\n",
       "\\item 1\n",
       "\\item 1\n",
       "\\item 1\n",
       "\\item 1\n",
       "\\item 1\n",
       "\\item 1\n",
       "\\item 1\n",
       "\\item 1\n",
       "\\item 1\n",
       "\\item 1\n",
       "\\item 1\n",
       "\\item 1\n",
       "\\item 1\n",
       "\\item 1\n",
       "\\item 1\n",
       "\\item 1\n",
       "\\item 1\n",
       "\\item 1\n",
       "\\item 2\n",
       "\\item 2\n",
       "\\item 2\n",
       "\\item 2\n",
       "\\item 2\n",
       "\\item 2\n",
       "\\item 2\n",
       "\\item 1\n",
       "\\item 2\n",
       "\\item 2\n",
       "\\item 2\n",
       "\\item 2\n",
       "\\item 2\n",
       "\\item 2\n",
       "\\item 2\n",
       "\\item 2\n",
       "\\item 2\n",
       "\\item 2\n",
       "\\item 1\n",
       "\\item 2\n",
       "\\item 1\n",
       "\\item 2\n",
       "\\item 2\n",
       "\\item 2\n",
       "\\item 2\n",
       "\\end{enumerate*}\n"
      ],
      "text/markdown": [
       "1. 1\n",
       "2. 1\n",
       "3. 1\n",
       "4. 1\n",
       "5. 1\n",
       "6. 1\n",
       "7. 1\n",
       "8. 1\n",
       "9. 1\n",
       "10. 1\n",
       "11. 1\n",
       "12. 1\n",
       "13. 1\n",
       "14. 1\n",
       "15. 1\n",
       "16. 1\n",
       "17. 1\n",
       "18. 1\n",
       "19. 1\n",
       "20. 1\n",
       "21. 1\n",
       "22. 1\n",
       "23. 1\n",
       "24. 1\n",
       "25. 1\n",
       "26. 2\n",
       "27. 2\n",
       "28. 2\n",
       "29. 2\n",
       "30. 2\n",
       "31. 2\n",
       "32. 2\n",
       "33. 1\n",
       "34. 2\n",
       "35. 2\n",
       "36. 2\n",
       "37. 2\n",
       "38. 2\n",
       "39. 2\n",
       "40. 2\n",
       "41. 2\n",
       "42. 2\n",
       "43. 2\n",
       "44. 1\n",
       "45. 2\n",
       "46. 1\n",
       "47. 2\n",
       "48. 2\n",
       "49. 2\n",
       "50. 2\n",
       "\n",
       "\n"
      ],
      "text/plain": [
       " [1] 1 1 1 1 1 1 1 1 1 1 1 1 1 1 1 1 1 1 1 1 1 1 1 1 1 2 2 2 2 2 2 2 1 2 2 2 2 2\n",
       "[39] 2 2 2 2 2 1 2 1 2 2 2 2"
      ]
     },
     "metadata": {},
     "output_type": "display_data"
    }
   ],
   "source": [
    "# cutree()函数根据谱系图的切割获得各个观测的类标签\n",
    "# 最长距离法和类平均法都准确地将观测分配到正确的类中\n",
    "# 最短距离法会有一个点自成一类\n",
    "cutree(hc.complete, 2)\n",
    "cutree(hc.single, 2)\n",
    "cutree(hc.average, 2)"
   ]
  },
  {
   "cell_type": "code",
   "execution_count": 25,
   "metadata": {
    "collapsed": false
   },
   "outputs": [
    {
     "data": {
      "text/html": [
       "<ol class=list-inline>\n",
       "\t<li>1</li>\n",
       "\t<li>1</li>\n",
       "\t<li>1</li>\n",
       "\t<li>1</li>\n",
       "\t<li>1</li>\n",
       "\t<li>1</li>\n",
       "\t<li>1</li>\n",
       "\t<li>1</li>\n",
       "\t<li>1</li>\n",
       "\t<li>1</li>\n",
       "\t<li>1</li>\n",
       "\t<li>1</li>\n",
       "\t<li>1</li>\n",
       "\t<li>1</li>\n",
       "\t<li>1</li>\n",
       "\t<li>2</li>\n",
       "\t<li>1</li>\n",
       "\t<li>1</li>\n",
       "\t<li>1</li>\n",
       "\t<li>1</li>\n",
       "\t<li>1</li>\n",
       "\t<li>1</li>\n",
       "\t<li>1</li>\n",
       "\t<li>1</li>\n",
       "\t<li>1</li>\n",
       "\t<li>3</li>\n",
       "\t<li>3</li>\n",
       "\t<li>3</li>\n",
       "\t<li>3</li>\n",
       "\t<li>3</li>\n",
       "\t<li>3</li>\n",
       "\t<li>3</li>\n",
       "\t<li>3</li>\n",
       "\t<li>3</li>\n",
       "\t<li>3</li>\n",
       "\t<li>3</li>\n",
       "\t<li>3</li>\n",
       "\t<li>3</li>\n",
       "\t<li>3</li>\n",
       "\t<li>3</li>\n",
       "\t<li>3</li>\n",
       "\t<li>4</li>\n",
       "\t<li>3</li>\n",
       "\t<li>3</li>\n",
       "\t<li>3</li>\n",
       "\t<li>3</li>\n",
       "\t<li>3</li>\n",
       "\t<li>3</li>\n",
       "\t<li>3</li>\n",
       "\t<li>3</li>\n",
       "</ol>\n"
      ],
      "text/latex": [
       "\\begin{enumerate*}\n",
       "\\item 1\n",
       "\\item 1\n",
       "\\item 1\n",
       "\\item 1\n",
       "\\item 1\n",
       "\\item 1\n",
       "\\item 1\n",
       "\\item 1\n",
       "\\item 1\n",
       "\\item 1\n",
       "\\item 1\n",
       "\\item 1\n",
       "\\item 1\n",
       "\\item 1\n",
       "\\item 1\n",
       "\\item 2\n",
       "\\item 1\n",
       "\\item 1\n",
       "\\item 1\n",
       "\\item 1\n",
       "\\item 1\n",
       "\\item 1\n",
       "\\item 1\n",
       "\\item 1\n",
       "\\item 1\n",
       "\\item 3\n",
       "\\item 3\n",
       "\\item 3\n",
       "\\item 3\n",
       "\\item 3\n",
       "\\item 3\n",
       "\\item 3\n",
       "\\item 3\n",
       "\\item 3\n",
       "\\item 3\n",
       "\\item 3\n",
       "\\item 3\n",
       "\\item 3\n",
       "\\item 3\n",
       "\\item 3\n",
       "\\item 3\n",
       "\\item 4\n",
       "\\item 3\n",
       "\\item 3\n",
       "\\item 3\n",
       "\\item 3\n",
       "\\item 3\n",
       "\\item 3\n",
       "\\item 3\n",
       "\\item 3\n",
       "\\end{enumerate*}\n"
      ],
      "text/markdown": [
       "1. 1\n",
       "2. 1\n",
       "3. 1\n",
       "4. 1\n",
       "5. 1\n",
       "6. 1\n",
       "7. 1\n",
       "8. 1\n",
       "9. 1\n",
       "10. 1\n",
       "11. 1\n",
       "12. 1\n",
       "13. 1\n",
       "14. 1\n",
       "15. 1\n",
       "16. 2\n",
       "17. 1\n",
       "18. 1\n",
       "19. 1\n",
       "20. 1\n",
       "21. 1\n",
       "22. 1\n",
       "23. 1\n",
       "24. 1\n",
       "25. 1\n",
       "26. 3\n",
       "27. 3\n",
       "28. 3\n",
       "29. 3\n",
       "30. 3\n",
       "31. 3\n",
       "32. 3\n",
       "33. 3\n",
       "34. 3\n",
       "35. 3\n",
       "36. 3\n",
       "37. 3\n",
       "38. 3\n",
       "39. 3\n",
       "40. 3\n",
       "41. 3\n",
       "42. 4\n",
       "43. 3\n",
       "44. 3\n",
       "45. 3\n",
       "46. 3\n",
       "47. 3\n",
       "48. 3\n",
       "49. 3\n",
       "50. 3\n",
       "\n",
       "\n"
      ],
      "text/plain": [
       " [1] 1 1 1 1 1 1 1 1 1 1 1 1 1 1 1 2 1 1 1 1 1 1 1 1 1 3 3 3 3 3 3 3 3 3 3 3 3 3\n",
       "[39] 3 3 3 4 3 3 3 3 3 3 3 3"
      ]
     },
     "metadata": {},
     "output_type": "display_data"
    }
   ],
   "source": [
    "# 用最短距离法将数据划分为4个类，仍然有2个观测自成一类，但得到的聚类结果比聚类数为2时更加合理\n",
    "cutree(hc.single, 4)"
   ]
  },
  {
   "cell_type": "code",
   "execution_count": 26,
   "metadata": {
    "collapsed": false
   },
   "outputs": [
    {
     "data": {
      "image/png": "[encoded data removed]",
      "text/plain": [
       "Plot with title \"Hierarchical Clustering with Scaled Features\""
      ]
     },
     "metadata": {},
     "output_type": "display_data"
    }
   ],
   "source": [
    "# 在对观测进行系统聚类之前，可以用scale()函数对变量进行标准化处理\n",
    "xsc=scale(x)\n",
    "plot(hclust(dist(xsc), method=\"complete\"), main=\"Hierarchical Clustering with Scaled Features\")"
   ]
  },
  {
   "cell_type": "code",
   "execution_count": 27,
   "metadata": {
    "collapsed": false
   },
   "outputs": [
    {
     "data": {
      "image/png": "[encoded data removed]",
      "text/plain": [
       "Plot with title \"Complete Linkage with Correlation-Based Distance\""
      ]
     },
     "metadata": {},
     "output_type": "display_data"
    }
   ],
   "source": [
    "# 可以用as.dist()函数计算基于相关性的距离，将任意一个对称方阵转换成hclust()函数能识别的距离矩阵的形式\n",
    "# 该方法的前提是数据中至少包含3个变量，因为仅有2个变量的数据，任意2个观测之间的相关系数绝对值恒等于1\n",
    "# 对三维数据集进行基于相关性距离的系统聚类\n",
    "x=matrix(rnorm(30*3), ncol=3)\n",
    "dd=as.dist(1-cor(t(x)))\n",
    "plot(hclust(dd, method=\"complete\"), main=\"Complete Linkage with Correlation-Based Distance\", xlab=\"\", sub=\"\")"
   ]
  },
  {
   "cell_type": "markdown",
   "metadata": {},
   "source": [
    "### 8.2.3 以NCI60数据为例"
   ]
  },
  {
   "cell_type": "code",
   "execution_count": 28,
   "metadata": {
    "collapsed": false
   },
   "outputs": [
    {
     "name": "stderr",
     "output_type": "stream",
     "text": [
      "Warning message:\n",
      "\"package 'ISLR' was built under R version 3.3.3\""
     ]
    }
   ],
   "source": [
    "# NCI60由64个细胞系的6830个基因表达数据构成\n",
    "library(ISLR)\n",
    "nci.labs=NCI60$labs\n",
    "nci.data=NCI60$data"
   ]
  },
  {
   "cell_type": "code",
   "execution_count": 29,
   "metadata": {
    "collapsed": false
   },
   "outputs": [
    {
     "data": {
      "text/html": [
       "<ol class=list-inline>\n",
       "\t<li>64</li>\n",
       "\t<li>6830</li>\n",
       "</ol>\n"
      ],
      "text/latex": [
       "\\begin{enumerate*}\n",
       "\\item 64\n",
       "\\item 6830\n",
       "\\end{enumerate*}\n"
      ],
      "text/markdown": [
       "1. 64\n",
       "2. 6830\n",
       "\n",
       "\n"
      ],
      "text/plain": [
       "[1]   64 6830"
      ]
     },
     "metadata": {},
     "output_type": "display_data"
    }
   ],
   "source": [
    "# 数据集包含64行和6830列\n",
    "dim(nci.data)"
   ]
  },
  {
   "cell_type": "code",
   "execution_count": 30,
   "metadata": {
    "collapsed": false
   },
   "outputs": [
    {
     "data": {
      "text/plain": [
       "nci.labs\n",
       "     BREAST         CNS       COLON K562A-repro K562B-repro    LEUKEMIA \n",
       "          7           5           7           1           1           6 \n",
       "MCF7A-repro MCF7D-repro    MELANOMA       NSCLC     OVARIAN    PROSTATE \n",
       "          1           1           8           9           6           2 \n",
       "      RENAL     UNKNOWN \n",
       "          9           1 "
      ]
     },
     "metadata": {},
     "output_type": "display_data"
    }
   ],
   "source": [
    "# 癌细胞的类型\n",
    "table(nci.labs)"
   ]
  },
  {
   "cell_type": "code",
   "execution_count": 31,
   "metadata": {
    "collapsed": true
   },
   "outputs": [],
   "source": [
    "# 由于高维数据无法可视化，所以进行PCA降维后，绘制前几个主成分得分向量将数据可视化\n",
    "pr.out=prcomp(nci.data, scale=TRUE)"
   ]
  },
  {
   "cell_type": "code",
   "execution_count": 32,
   "metadata": {
    "collapsed": true
   },
   "outputs": [],
   "source": [
    "# 自建函数，根据癌症类型给64个细胞系分配不同颜色\n",
    "Cols=function(vec){\n",
    "    cols=rainbow(length(unique(vec)))\n",
    "    return(cols[as.numeric(as.factor(vec))])\n",
    "  }"
   ]
  },
  {
   "cell_type": "code",
   "execution_count": 33,
   "metadata": {
    "collapsed": false
   },
   "outputs": [
    {
     "data": {
      "image/png": "[encoded data removed]",
      "text/plain": [
       "plot without title"
      ]
     },
     "metadata": {},
     "output_type": "display_data"
    }
   ],
   "source": [
    "# 同类癌症的细胞系，在前几个主成分得分向量上确实比较接近，说明同类癌症的细胞系有相似的基因表达\n",
    "par(mfrow=c(1,2))\n",
    "plot(pr.out$x[,1:2], col=Cols(nci.labs), pch=19,xlab=\"Z1\",ylab=\"Z2\")\n",
    "plot(pr.out$x[,c(1,3)], col=Cols(nci.labs), pch=19,xlab=\"Z1\",ylab=\"Z3\")"
   ]
  },
  {
   "cell_type": "code",
   "execution_count": 34,
   "metadata": {
    "collapsed": false
   },
   "outputs": [
    {
     "data": {
      "text/plain": [
       "Importance of components:\n",
       "                           PC1      PC2      PC3      PC4      PC5      PC6\n",
       "Standard deviation     27.8535 21.48136 19.82046 17.03256 15.97181 15.72108\n",
       "Proportion of Variance  0.1136  0.06756  0.05752  0.04248  0.03735  0.03619\n",
       "Cumulative Proportion   0.1136  0.18115  0.23867  0.28115  0.31850  0.35468\n",
       "                            PC7      PC8      PC9     PC10     PC11     PC12\n",
       "Standard deviation     14.47145 13.54427 13.14400 12.73860 12.68672 12.15769\n",
       "Proportion of Variance  0.03066  0.02686  0.02529  0.02376  0.02357  0.02164\n",
       "Cumulative Proportion   0.38534  0.41220  0.43750  0.46126  0.48482  0.50646\n",
       "                           PC13     PC14     PC15     PC16     PC17     PC18\n",
       "Standard deviation     11.83019 11.62554 11.43779 11.00051 10.65666 10.48880\n",
       "Proportion of Variance  0.02049  0.01979  0.01915  0.01772  0.01663  0.01611\n",
       "Cumulative Proportion   0.52695  0.54674  0.56590  0.58361  0.60024  0.61635\n",
       "                           PC19    PC20     PC21    PC22    PC23    PC24\n",
       "Standard deviation     10.43518 10.3219 10.14608 10.0544 9.90265 9.64766\n",
       "Proportion of Variance  0.01594  0.0156  0.01507  0.0148 0.01436 0.01363\n",
       "Cumulative Proportion   0.63229  0.6479  0.66296  0.6778 0.69212 0.70575\n",
       "                          PC25    PC26    PC27   PC28    PC29    PC30    PC31\n",
       "Standard deviation     9.50764 9.33253 9.27320 9.0900 8.98117 8.75003 8.59962\n",
       "Proportion of Variance 0.01324 0.01275 0.01259 0.0121 0.01181 0.01121 0.01083\n",
       "Cumulative Proportion  0.71899 0.73174 0.74433 0.7564 0.76824 0.77945 0.79027\n",
       "                          PC32    PC33    PC34    PC35    PC36    PC37    PC38\n",
       "Standard deviation     8.44738 8.37305 8.21579 8.15731 7.97465 7.90446 7.82127\n",
       "Proportion of Variance 0.01045 0.01026 0.00988 0.00974 0.00931 0.00915 0.00896\n",
       "Cumulative Proportion  0.80072 0.81099 0.82087 0.83061 0.83992 0.84907 0.85803\n",
       "                          PC39    PC40    PC41   PC42    PC43   PC44    PC45\n",
       "Standard deviation     7.72156 7.58603 7.45619 7.3444 7.10449 7.0131 6.95839\n",
       "Proportion of Variance 0.00873 0.00843 0.00814 0.0079 0.00739 0.0072 0.00709\n",
       "Cumulative Proportion  0.86676 0.87518 0.88332 0.8912 0.89861 0.9058 0.91290\n",
       "                         PC46    PC47    PC48    PC49    PC50    PC51    PC52\n",
       "Standard deviation     6.8663 6.80744 6.64763 6.61607 6.40793 6.21984 6.20326\n",
       "Proportion of Variance 0.0069 0.00678 0.00647 0.00641 0.00601 0.00566 0.00563\n",
       "Cumulative Proportion  0.9198 0.92659 0.93306 0.93947 0.94548 0.95114 0.95678\n",
       "                          PC53    PC54    PC55    PC56    PC57   PC58    PC59\n",
       "Standard deviation     6.06706 5.91805 5.91233 5.73539 5.47261 5.2921 5.02117\n",
       "Proportion of Variance 0.00539 0.00513 0.00512 0.00482 0.00438 0.0041 0.00369\n",
       "Cumulative Proportion  0.96216 0.96729 0.97241 0.97723 0.98161 0.9857 0.98940\n",
       "                          PC60    PC61    PC62    PC63      PC64\n",
       "Standard deviation     4.68398 4.17567 4.08212 4.04124 2.148e-14\n",
       "Proportion of Variance 0.00321 0.00255 0.00244 0.00239 0.000e+00\n",
       "Cumulative Proportion  0.99262 0.99517 0.99761 1.00000 1.000e+00"
      ]
     },
     "metadata": {},
     "output_type": "display_data"
    }
   ],
   "source": [
    "# summary()函数得到前几个主成分的方差解释比例\n",
    "summary(pr.out)"
   ]
  },
  {
   "cell_type": "code",
   "execution_count": 35,
   "metadata": {
    "collapsed": false
   },
   "outputs": [
    {
     "data": {
      "image/png": "[encoded data removed]",
      "text/plain": [
       "Plot with title \"pr.out\""
      ]
     },
     "metadata": {},
     "output_type": "display_data"
    }
   ],
   "source": [
    "# plot()函数绘制前几个主成分方差的柱状图，柱子的高度是pr.out$sdev（标准差）的平方\n",
    "plot(pr.out)"
   ]
  },
  {
   "cell_type": "code",
   "execution_count": 36,
   "metadata": {
    "collapsed": false
   },
   "outputs": [
    {
     "data": {
      "image/png": "[encoded data removed]",
      "text/plain": [
       "plot without title"
      ]
     },
     "metadata": {},
     "output_type": "display_data"
    }
   ],
   "source": [
    "# 绘制每个主成分的PVE和累积PVE图\n",
    "pve=100*pr.out$sdev^2/sum(pr.out$sdev^2)\n",
    "par(mfrow=c(1,2))\n",
    "plot(pve,  type=\"o\", ylab=\"PVE\", xlab=\"Principal Component\", col=\"blue\")\n",
    "plot(cumsum(pve), type=\"o\", ylab=\"Cumulative PVE\", xlab=\"Principal Component\", col=\"brown3\")"
   ]
  },
  {
   "cell_type": "code",
   "execution_count": 37,
   "metadata": {
    "collapsed": false
   },
   "outputs": [
    {
     "data": {
      "image/png": "[encoded data removed]",
      "text/plain": [
       "plot without title"
      ]
     },
     "metadata": {},
     "output_type": "display_data"
    }
   ],
   "source": [
    "# pve和cumsum(pve)可以由summary(pr.out)$importance[2,]和summary(pr.out)$importance[3,]得到\n",
    "# 选择前7个主成分（因为碎石图中第7个主成分的位置有一个elbow）\n",
    "par(mfrow=c(1,2))\n",
    "plot(summary(pr.out)$importance[2,],  type=\"o\", ylab=\"PVE\", xlab=\"Principal Component\", col=\"blue\")\n",
    "plot(summary(pr.out)$importance[3,], type=\"o\", ylab=\"Cumulative PVE\", xlab=\"Principal Component\", col=\"brown3\")"
   ]
  },
  {
   "cell_type": "code",
   "execution_count": 38,
   "metadata": {
    "collapsed": true
   },
   "outputs": [],
   "source": [
    "# 对NCI60数据集进行系统聚类，检验观测是否被分到了不同的癌症类型中\n",
    "# 首先对变量进行标准化处理\n",
    "sd.data=scale(nci.data)"
   ]
  },
  {
   "cell_type": "code",
   "execution_count": 39,
   "metadata": {
    "collapsed": false,
    "scrolled": false
   },
   "outputs": [
    {
     "data": {
      "image/png": "[encoded data removed]",
      "text/plain": [
       "Plot with title \"Complete Linkage\""
      ]
     },
     "metadata": {},
     "output_type": "display_data"
    },
    {
     "data": {
      "image/png": "[encoded data removed]",
      "text/plain": [
       "Plot with title \"Single Linkage\""
      ]
     },
     "metadata": {},
     "output_type": "display_data"
    },
    {
     "data": {
      "image/png": "[encoded data removed]",
      "text/plain": [
       "Plot with title \"Average Linkage\""
      ]
     },
     "metadata": {},
     "output_type": "display_data"
    }
   ],
   "source": [
    "# 分别用最长距离法、最短距离法、类平均法对观测进行系统聚类，用欧氏距离作为相异性度量指标\n",
    "# 最短距离法倾向于得到拖尾聚类的结果：每个观测一个接一个地聚合到一些非常大的类中\n",
    "# 最长距离法和类平均法往往会得到类规模相对比较均衡、分析潜力较大的分类结果\n",
    "# par(mfrow=c(1,3))\n",
    "data.dist=dist(sd.data)\n",
    "plot(hclust(data.dist), labels=nci.labs, main=\"Complete Linkage\", xlab=\"\", sub=\"\",ylab=\"\")\n",
    "plot(hclust(data.dist, method=\"single\"), labels=nci.labs,  main=\"Single Linkage\", xlab=\"\", sub=\"\",ylab=\"\")\n",
    "plot(hclust(data.dist, method=\"average\"), labels=nci.labs, main=\"Average Linkage\", xlab=\"\", sub=\"\",ylab=\"\")"
   ]
  },
  {
   "cell_type": "code",
   "execution_count": 40,
   "metadata": {
    "collapsed": false
   },
   "outputs": [
    {
     "data": {
      "text/plain": [
       "           nci.labs\n",
       "hc.clusters BREAST CNS COLON K562A-repro K562B-repro LEUKEMIA MCF7A-repro\n",
       "          1      2   3     2           0           0        0           0\n",
       "          2      3   2     0           0           0        0           0\n",
       "          3      0   0     0           1           1        6           0\n",
       "          4      2   0     5           0           0        0           1\n",
       "           nci.labs\n",
       "hc.clusters MCF7D-repro MELANOMA NSCLC OVARIAN PROSTATE RENAL UNKNOWN\n",
       "          1           0        8     8       6        2     8       1\n",
       "          2           0        0     1       0        0     1       0\n",
       "          3           0        0     0       0        0     0       0\n",
       "          4           1        0     0       0        0     0       0"
      ]
     },
     "metadata": {},
     "output_type": "display_data"
    }
   ],
   "source": [
    "# 对比最长距离法的聚类结果与真实的癌症类型\n",
    "hc.out=hclust(dist(sd.data))\n",
    "hc.clusters=cutree(hc.out,4)\n",
    "table(hc.clusters,nci.labs)"
   ]
  },
  {
   "cell_type": "code",
   "execution_count": 41,
   "metadata": {
    "collapsed": false
   },
   "outputs": [
    {
     "data": {
      "image/png": "[encoded data removed]",
      "text/plain": [
       "Plot with title \"Cluster Dendrogram\""
      ]
     },
     "metadata": {},
     "output_type": "display_data"
    }
   ],
   "source": [
    "# 从混淆矩阵和系统树图中可以看出一些明显的模式，例如白血病细胞系都被归入了第3类\n",
    "# par(mfrow=c(1,1))\n",
    "plot(hc.out, labels=nci.labs)\n",
    "abline(h=139, col=\"red\")"
   ]
  },
  {
   "cell_type": "code",
   "execution_count": 42,
   "metadata": {
    "collapsed": false
   },
   "outputs": [
    {
     "data": {
      "text/plain": [
       "\n",
       "Call:\n",
       "hclust(d = dist(sd.data))\n",
       "\n",
       "Cluster method   : complete \n",
       "Distance         : euclidean \n",
       "Number of objects: 64 \n"
      ]
     },
     "metadata": {},
     "output_type": "display_data"
    }
   ],
   "source": [
    "# 得到hclust的参数概要信息\n",
    "hc.out"
   ]
  },
  {
   "cell_type": "code",
   "execution_count": 43,
   "metadata": {
    "collapsed": false
   },
   "outputs": [
    {
     "data": {
      "text/plain": [
       "           hc.clusters\n",
       "km.clusters  1  2  3  4\n",
       "          1 11  0  0  9\n",
       "          2  0  0  8  0\n",
       "          3  9  0  0  0\n",
       "          4 20  7  0  0"
      ]
     },
     "metadata": {},
     "output_type": "display_data"
    }
   ],
   "source": [
    "# 系统聚类法和K均值聚类法的聚类结果有所不同\n",
    "set.seed(2)\n",
    "km.out=kmeans(sd.data, 4, nstart=20)\n",
    "km.clusters=km.out$cluster\n",
    "table(km.clusters,hc.clusters)"
   ]
  },
  {
   "cell_type": "code",
   "execution_count": 44,
   "metadata": {
    "collapsed": false
   },
   "outputs": [
    {
     "data": {
      "image/png": "[encoded data removed]",
      "text/plain": [
       "Plot with title \"Hier. Clust. on First Five Score Vectors\""
      ]
     },
     "metadata": {},
     "output_type": "display_data"
    }
   ],
   "source": [
    "# 对前几个主成分得分向量进行系统聚类，结果与对全部数据做系统聚类有所不同\n",
    "hc.out=hclust(dist(pr.out$x[,1:5]))\n",
    "plot(hc.out, labels=nci.labs, main=\"Hier. Clust. on First Five Score Vectors\")"
   ]
  },
  {
   "cell_type": "code",
   "execution_count": 45,
   "metadata": {
    "collapsed": false
   },
   "outputs": [
    {
     "data": {
      "text/plain": [
       "   nci.labs\n",
       "    BREAST CNS COLON K562A-repro K562B-repro LEUKEMIA MCF7A-repro MCF7D-repro\n",
       "  1      0   2     7           0           0        2           0           0\n",
       "  2      5   3     0           0           0        0           0           0\n",
       "  3      0   0     0           1           1        4           0           0\n",
       "  4      2   0     0           0           0        0           1           1\n",
       "   nci.labs\n",
       "    MELANOMA NSCLC OVARIAN PROSTATE RENAL UNKNOWN\n",
       "  1        1     8       5        2     7       0\n",
       "  2        7     1       1        0     2       1\n",
       "  3        0     0       0        0     0       0\n",
       "  4        0     0       0        0     0       0"
      ]
     },
     "metadata": {},
     "output_type": "display_data"
    }
   ],
   "source": [
    "# 有时候用主成分进行系统聚类得到的结果更加理性，可以将得到主成分的过程看作是对数据进行去噪处理\n",
    "table(cutree(hc.out,4), nci.labs)"
   ]
  }
 ],
 "metadata": {
  "kernelspec": {
   "display_name": "R",
   "language": "R",
   "name": "ir"
  },
  "language_info": {
   "codemirror_mode": "r",
   "file_extension": ".r",
   "mimetype": "text/x-r-source",
   "name": "R",
   "pygments_lexer": "r",
   "version": "3.3.2"
  }
 },
 "nbformat": 4,
 "nbformat_minor": 2
}
